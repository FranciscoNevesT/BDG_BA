{
 "cells": [
  {
   "cell_type": "markdown",
   "id": "60b5e1cf-95c1-46ec-91f5-a4c032cfb12f",
   "metadata": {},
   "source": [
    "# Download data"
   ]
  },
  {
   "cell_type": "code",
   "execution_count": 3,
   "id": "1c700645-70d5-445d-b1ee-f37489b2a133",
   "metadata": {},
   "outputs": [],
   "source": [
    "import os\n",
    "import requests\n",
    "import zipfile"
   ]
  },
  {
   "cell_type": "code",
   "execution_count": 5,
   "id": "c87ac949-5399-47fb-991d-4520dffe988d",
   "metadata": {},
   "outputs": [],
   "source": [
    "def ensure_directory_exists(directory):\n",
    "    \"\"\"Ensure the directory exists. Create it if not.\"\"\"\n",
    "    if not os.path.exists(directory):\n",
    "        os.makedirs(directory)\n",
    "        print(f\"Directory '{directory}' created.\")\n",
    "        return False\n",
    "    else:\n",
    "        print(f\"Directory '{directory}' already exists.\")\n",
    "        return True"
   ]
  },
  {
   "cell_type": "code",
   "execution_count": 7,
   "id": "fd5ca72b-df34-4cfb-b731-aad11b37c7ab",
   "metadata": {},
   "outputs": [],
   "source": [
    "def download_file_if_not_exists(file_path, url):\n",
    "    \"\"\"Download a file if it does not exist.\"\"\"\n",
    "    if not os.path.exists(file_path):\n",
    "        response = requests.get(url, stream=True)\n",
    "        with open(file_path, 'wb') as file:\n",
    "            for chunk in response.iter_content(chunk_size=1024):\n",
    "                file.write(chunk)\n",
    "        print(f\"Downloaded '{file_path}'.\")\n",
    "    else:\n",
    "        print(f\"File '{file_path}' already exists.\")"
   ]
  },
  {
   "cell_type": "code",
   "execution_count": 9,
   "id": "42019715-f1b7-402b-88c8-ccf4c9321a01",
   "metadata": {},
   "outputs": [],
   "source": [
    "def unzip(zip_path, extract_to):\n",
    "    \"\"\"Unzip a file and delete the .zip file afterward.\"\"\"\n",
    "    if zipfile.is_zipfile(zip_path):\n",
    "        with zipfile.ZipFile(zip_path, 'r') as zip_ref:\n",
    "            zip_ref.extractall(extract_to)\n",
    "        print(f\"Extracted '{zip_path}' to '{extract_to}'.\")\n",
    "    else:\n",
    "        print(f\"'{zip_path}' is not a valid zip file.\")"
   ]
  },
  {
   "cell_type": "code",
   "execution_count": 38,
   "id": "f2a7e6cb-5892-4c00-976b-387536692449",
   "metadata": {},
   "outputs": [],
   "source": [
    "base_url = \"https://ftp.ibge.gov.br/Censos/Censo_Demografico_2022/Agregados_por_Setores_Censitarios/Agregados_por_Municipio_csv/\"\n",
    "\n",
    "zips = [\"Agregados_por_municipios_alfabetizacao_BR.zip\",\"Agregados_por_municipios_basico_BR.zip\",\"Agregados_por_municipios_caracteristicas_domicilio1_BR.zip\",\n",
    "       \"Agregados_por_municipios_caracteristicas_domicilio2_BR.zip\",\"Agregados_por_municipios_caracteristicas_domicilio3_BR.zip\",\"Agregados_por_municipios_cor_ou_raca_BR.zip\",\n",
    "       \"Agregados_por_municipios_demografia_BR.zip\",\"Agregados_por_municipios_domicilios_indigenas_BR.zip\",\"Agregados_por_municipios_domicilios_quilombolas_BR.zip\",\n",
    "       \"Agregados_por_municipios_obitos_BR.zip\",\"Agregados_por_municipios_parentesco_BR.zip\",\"Agregados_por_municipios_pessoas_indigenas_BR.zip\",\"Agregados_por_municipios_pessoas_quilombolas_BR.zip\"] "
   ]
  },
  {
   "cell_type": "code",
   "execution_count": 44,
   "id": "ffb5c949-6b90-4b00-a8e0-7a7a9f098a12",
   "metadata": {},
   "outputs": [
    {
     "name": "stdout",
     "output_type": "stream",
     "text": [
      "File 'datasets/IBGE/Agregados_por_municipios_alfabetizacao_BR.zip' already exists.\n",
      "Extracted 'datasets/IBGE/Agregados_por_municipios_alfabetizacao_BR.zip' to 'datasets/IBGE'.\n",
      "Downloaded 'datasets/IBGE/Agregados_por_municipios_basico_BR.zip'.\n",
      "Extracted 'datasets/IBGE/Agregados_por_municipios_basico_BR.zip' to 'datasets/IBGE'.\n",
      "Downloaded 'datasets/IBGE/Agregados_por_municipios_caracteristicas_domicilio1_BR.zip'.\n",
      "Extracted 'datasets/IBGE/Agregados_por_municipios_caracteristicas_domicilio1_BR.zip' to 'datasets/IBGE'.\n",
      "Downloaded 'datasets/IBGE/Agregados_por_municipios_caracteristicas_domicilio2_BR.zip'.\n",
      "Extracted 'datasets/IBGE/Agregados_por_municipios_caracteristicas_domicilio2_BR.zip' to 'datasets/IBGE'.\n",
      "Downloaded 'datasets/IBGE/Agregados_por_municipios_caracteristicas_domicilio3_BR.zip'.\n",
      "Extracted 'datasets/IBGE/Agregados_por_municipios_caracteristicas_domicilio3_BR.zip' to 'datasets/IBGE'.\n",
      "Downloaded 'datasets/IBGE/Agregados_por_municipios_cor_ou_raca_BR.zip'.\n",
      "Extracted 'datasets/IBGE/Agregados_por_municipios_cor_ou_raca_BR.zip' to 'datasets/IBGE'.\n",
      "Downloaded 'datasets/IBGE/Agregados_por_municipios_demografia_BR.zip'.\n",
      "Extracted 'datasets/IBGE/Agregados_por_municipios_demografia_BR.zip' to 'datasets/IBGE'.\n",
      "Downloaded 'datasets/IBGE/Agregados_por_municipios_domicilios_indigenas_BR.zip'.\n",
      "Extracted 'datasets/IBGE/Agregados_por_municipios_domicilios_indigenas_BR.zip' to 'datasets/IBGE'.\n",
      "Downloaded 'datasets/IBGE/Agregados_por_municipios_domicilios_quilombolas_BR.zip'.\n",
      "Extracted 'datasets/IBGE/Agregados_por_municipios_domicilios_quilombolas_BR.zip' to 'datasets/IBGE'.\n",
      "Downloaded 'datasets/IBGE/Agregados_por_municipios_obitos_BR.zip'.\n",
      "Extracted 'datasets/IBGE/Agregados_por_municipios_obitos_BR.zip' to 'datasets/IBGE'.\n",
      "Downloaded 'datasets/IBGE/Agregados_por_municipios_parentesco_BR.zip'.\n",
      "Extracted 'datasets/IBGE/Agregados_por_municipios_parentesco_BR.zip' to 'datasets/IBGE'.\n",
      "Downloaded 'datasets/IBGE/Agregados_por_municipios_pessoas_indigenas_BR.zip'.\n",
      "Extracted 'datasets/IBGE/Agregados_por_municipios_pessoas_indigenas_BR.zip' to 'datasets/IBGE'.\n",
      "Downloaded 'datasets/IBGE/Agregados_por_municipios_pessoas_quilombolas_BR.zip'.\n",
      "Extracted 'datasets/IBGE/Agregados_por_municipios_pessoas_quilombolas_BR.zip' to 'datasets/IBGE'.\n"
     ]
    }
   ],
   "source": [
    "for zip_ in zips:\n",
    "    download_url = \"{}{}\".format(base_url,zip_)\n",
    "    zip_file_path = \"{}/{}\".format(directory,zip_)\n",
    "    # Download the file if it doesn't exist\n",
    "    download_file_if_not_exists(zip_file_path, download_url)\n",
    "    \n",
    "    # Unzip the file and delete the .zip\n",
    "    unzip(zip_file_path, directory_out)"
   ]
  },
  {
   "cell_type": "markdown",
   "id": "332f6409-64e6-42b7-9910-7a48e34e7b8a",
   "metadata": {},
   "source": [
    "# Load data"
   ]
  },
  {
   "cell_type": "code",
   "execution_count": 47,
   "id": "e43d5f25-81cb-4aa1-acab-cb6b5473d226",
   "metadata": {},
   "outputs": [],
   "source": [
    "import os\n",
    "import pandas as pd\n",
    "import sqlite3"
   ]
  },
  {
   "cell_type": "code",
   "execution_count": 49,
   "id": "35e35874-e8b2-424e-8b43-773bfd5656e8",
   "metadata": {},
   "outputs": [],
   "source": [
    "db_path = 'sql/eleicao.db' \n",
    "connection = sqlite3.connect(db_path)"
   ]
  },
  {
   "cell_type": "code",
   "execution_count": 51,
   "id": "9097a2f5-c857-4242-b17c-b4f4713bcbd3",
   "metadata": {},
   "outputs": [
    {
     "data": {
      "text/html": [
       "<div>\n",
       "<style scoped>\n",
       "    .dataframe tbody tr th:only-of-type {\n",
       "        vertical-align: middle;\n",
       "    }\n",
       "\n",
       "    .dataframe tbody tr th {\n",
       "        vertical-align: top;\n",
       "    }\n",
       "\n",
       "    .dataframe thead th {\n",
       "        text-align: right;\n",
       "    }\n",
       "</style>\n",
       "<table border=\"1\" class=\"dataframe\">\n",
       "  <thead>\n",
       "    <tr style=\"text-align: right;\">\n",
       "      <th></th>\n",
       "      <th>CD_MUN</th>\n",
       "      <th>NM_MUN</th>\n",
       "    </tr>\n",
       "  </thead>\n",
       "  <tbody>\n",
       "    <tr>\n",
       "      <th>0</th>\n",
       "      <td>2907806</td>\n",
       "      <td>CÍCERO DANTAS</td>\n",
       "    </tr>\n",
       "    <tr>\n",
       "      <th>1</th>\n",
       "      <td>2923902</td>\n",
       "      <td>PAU BRASIL</td>\n",
       "    </tr>\n",
       "    <tr>\n",
       "      <th>2</th>\n",
       "      <td>2923209</td>\n",
       "      <td>OLIVEIRA DOS BREJINHOS</td>\n",
       "    </tr>\n",
       "    <tr>\n",
       "      <th>3</th>\n",
       "      <td>2921500</td>\n",
       "      <td>MONTE SANTO</td>\n",
       "    </tr>\n",
       "    <tr>\n",
       "      <th>4</th>\n",
       "      <td>2921203</td>\n",
       "      <td>MIGUEL CALMON</td>\n",
       "    </tr>\n",
       "  </tbody>\n",
       "</table>\n",
       "</div>"
      ],
      "text/plain": [
       "    CD_MUN                  NM_MUN\n",
       "0  2907806           CÍCERO DANTAS\n",
       "1  2923902              PAU BRASIL\n",
       "2  2923209  OLIVEIRA DOS BREJINHOS\n",
       "3  2921500             MONTE SANTO\n",
       "4  2921203           MIGUEL CALMON"
      ]
     },
     "execution_count": 51,
     "metadata": {},
     "output_type": "execute_result"
    }
   ],
   "source": [
    "querry = \"\"\"\n",
    "SELECT * \n",
    "FROM municipio_nome\n",
    "\"\"\"\n",
    "\n",
    "municipios = pd.read_sql_query(querry,connection)\n",
    "municipios.head()"
   ]
  },
  {
   "cell_type": "code",
   "execution_count": 53,
   "id": "38d694ef-4dbf-4e31-a7fd-25abceae7a5c",
   "metadata": {},
   "outputs": [],
   "source": [
    "def get_dataset(text):\n",
    "    text = [i for i in text if i != \"\\\"\"]\n",
    "    text = \"\".join(text)\n",
    "    \n",
    "    lines = text.split(\"\\n\")\n",
    "    columns = lines[0].split(\";\")\n",
    "\n",
    "    df = []    \n",
    "    for line in lines[1:]:\n",
    "        features = line.split(\";\")\n",
    "        if len(features) == len(columns):\n",
    "            df.append(features)\n",
    "    df = pd.DataFrame(df,columns=columns)\n",
    "\n",
    "    \n",
    "    for i in df.columns:\n",
    "        try:\n",
    "            column_values = df[i]\n",
    "            tipo = int\n",
    "            if \",\" in list(df[i].values[0]):\n",
    "                column_values = column_values.apply(lambda x: x.replace(\",\",\".\"))\n",
    "                tipo = float\n",
    "                \n",
    "            df[i] = column_values.astype(tipo)\n",
    "        except Exception as e:\n",
    "            df.drop(i,axis=1,inplace=True)\n",
    "            \n",
    "    return df"
   ]
  },
  {
   "cell_type": "code",
   "execution_count": 55,
   "id": "2b95b25b-16e2-44af-9b17-cca20d3d7ed0",
   "metadata": {},
   "outputs": [],
   "source": [
    "def clean_municipios(df):\n",
    "    municipios_num = {int(x[0]):x[1] for x in municipios.values}\n",
    "\n",
    "    df_filter = df[df['CD_MUN'].apply(lambda x: x in municipios_num.keys())].reset_index(drop=True)\n",
    "\n",
    "    return df_filter"
   ]
  },
  {
   "cell_type": "code",
   "execution_count": 57,
   "id": "e73a3056-a101-441d-b317-594cf27dba0f",
   "metadata": {},
   "outputs": [],
   "source": [
    "csv_files = ['Agregados_por_municipios_alfabetizacao_BR.csv',\n",
    " 'Agregados_por_municipios_basico_BR.csv',\n",
    " 'Agregados_por_municipios_caracteristicas_domicilio1_BR.csv',\n",
    " 'Agregados_por_municipios_caracteristicas_domicilio2_BR.csv',\n",
    " 'Agregados_por_municipios_caracteristicas_domicilio3_BR.csv',\n",
    " 'Agregados_por_municipios_cor_ou_raca_BR.csv',\n",
    " 'Agregados_por_municipios_demografia_BR.csv',\n",
    " 'Agregados_por_municipios_domicilios_indigenas_BR.csv',\n",
    " 'Agregados_por_municipios_domicilios_quilombolas_BR.csv',\n",
    " 'Agregados_por_municipios_obitos_BR.csv',\n",
    " 'Agregados_por_municipios_parentesco_BR.csv',\n",
    " 'Agregados_por_municipios_pessoas_indigenas_BR.csv',\n",
    " 'Agregados_por_municipios_pessoas_quilombolas_BR.csv']\n",
    "csv_names = ['alfabetizacao','basico','domicilio1','domicilio2','domicilio3','cor_raca','demografia',\n",
    "             'domicilios_indigenas','domicilios_quilombolas','obitos','parentesco','pessoas_indigenas','pessoas_quilombolas']"
   ]
  },
  {
   "cell_type": "code",
   "execution_count": 59,
   "id": "8f9a2c3a-411c-40fc-b95b-540be28c2596",
   "metadata": {
    "scrolled": true
   },
   "outputs": [],
   "source": [
    "for file,name in zip(csv_files,csv_names):\n",
    "    with open(\"datasets/IBGE/{}\".format(file),\"r\") as file:\n",
    "        text = file.read()\n",
    "\n",
    "    df = get_dataset(text)\n",
    "    df = clean_municipios(df)\n",
    "\n",
    "    # Converter o DataFrame em uma tabela SQL\n",
    "    df.to_sql(name, connection, if_exists='replace', index=False)"
   ]
  },
  {
   "cell_type": "code",
   "execution_count": 61,
   "id": "999e0155-d631-4701-a12c-ed303e753b07",
   "metadata": {},
   "outputs": [],
   "source": [
    "# Fechar a conexão\n",
    "connection.close()"
   ]
  }
 ],
 "metadata": {
  "kernelspec": {
   "display_name": "Python 3 (ipykernel)",
   "language": "python",
   "name": "python3"
  },
  "language_info": {
   "codemirror_mode": {
    "name": "ipython",
    "version": 3
   },
   "file_extension": ".py",
   "mimetype": "text/x-python",
   "name": "python",
   "nbconvert_exporter": "python",
   "pygments_lexer": "ipython3",
   "version": "3.12.0"
  }
 },
 "nbformat": 4,
 "nbformat_minor": 5
}

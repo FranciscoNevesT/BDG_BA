{
 "cells": [
  {
   "cell_type": "markdown",
   "id": "49a72708-39f6-4c7e-957b-46b6d725224e",
   "metadata": {},
   "source": [
    "# Download data"
   ]
  },
  {
   "cell_type": "code",
   "execution_count": 1,
   "id": "191e00c0-a963-4263-8af9-cf5b2a8fed4e",
   "metadata": {},
   "outputs": [],
   "source": [
    "import os\n",
    "import requests\n",
    "import zipfile"
   ]
  },
  {
   "cell_type": "code",
   "execution_count": 2,
   "id": "190e6cc8-6bf2-4ce2-a9d6-727b8575ffce",
   "metadata": {},
   "outputs": [],
   "source": [
    "def ensure_directory_exists(directory):\n",
    "    \"\"\"Ensure the directory exists. Create it if not.\"\"\"\n",
    "    if not os.path.exists(directory):\n",
    "        os.makedirs(directory)\n",
    "        print(f\"Directory '{directory}' created.\")\n",
    "        return False\n",
    "    else:\n",
    "        print(f\"Directory '{directory}' already exists.\")\n",
    "        return True"
   ]
  },
  {
   "cell_type": "code",
   "execution_count": 3,
   "id": "91a4c2f7-ff17-449b-a855-96411cc9aa7f",
   "metadata": {},
   "outputs": [],
   "source": [
    "def download_file_if_not_exists(file_path, url):\n",
    "    \"\"\"Download a file if it does not exist.\"\"\"\n",
    "    if not os.path.exists(file_path):\n",
    "        response = requests.get(url, stream=True)\n",
    "        with open(file_path, 'wb') as file:\n",
    "            for chunk in response.iter_content(chunk_size=1024):\n",
    "                file.write(chunk)\n",
    "        print(f\"Downloaded '{file_path}'.\")\n",
    "    else:\n",
    "        print(f\"File '{file_path}' already exists.\")"
   ]
  },
  {
   "cell_type": "code",
   "execution_count": 4,
   "id": "ee0f14d1-49bb-4896-a8e2-4461ea0acfde",
   "metadata": {},
   "outputs": [],
   "source": [
    "def unzip(zip_path, extract_to):\n",
    "    \"\"\"Unzip a file and delete the .zip file afterward.\"\"\"\n",
    "    if zipfile.is_zipfile(zip_path):\n",
    "        with zipfile.ZipFile(zip_path, 'r') as zip_ref:\n",
    "            zip_ref.extractall(extract_to)\n",
    "        print(f\"Extracted '{zip_path}' to '{extract_to}'.\")\n",
    "    else:\n",
    "        print(f\"'{zip_path}' is not a valid zip file.\")"
   ]
  },
  {
   "cell_type": "code",
   "execution_count": 5,
   "id": "c3113052-9ddf-4ae8-91f7-1b56352875bf",
   "metadata": {},
   "outputs": [
    {
     "name": "stdout",
     "output_type": "stream",
     "text": [
      "Directory 'datasets' already exists.\n",
      "Directory 'datasets/BA_Municipios_2022' already exists.\n",
      "File 'datasets/BA_Municipios_2022.zip' already exists.\n",
      "Extracted 'datasets/BA_Municipios_2022.zip' to 'datasets/BA_Municipios_2022'.\n"
     ]
    }
   ],
   "source": [
    "# Main execution\n",
    "directory = \"datasets\"\n",
    "zip_file_path = os.path.join(directory, \"BA_Municipios_2022.zip\")\n",
    "download_url = \"https://geoftp.ibge.gov.br/organizacao_do_territorio/malhas_territoriais/malhas_municipais/municipio_2022/UFs/BA/BA_Municipios_2022.zip\"  # Replace with the actual URL\n",
    "directory_out = zip_file_path.split(\".\")[0]\n",
    "\n",
    "# Ensure directory exists\n",
    "ensure_directory_exists(directory)\n",
    "ensure_directory_exists(directory_out)\n",
    "\n",
    "# Download the file if it doesn't exist\n",
    "download_file_if_not_exists(zip_file_path, download_url)\n",
    "\n",
    "# Unzip the file and delete the .zip\n",
    "unzip(zip_file_path, directory_out)"
   ]
  },
  {
   "cell_type": "markdown",
   "id": "7e564c64-d500-4d50-805a-a90a697a63bb",
   "metadata": {},
   "source": [
    "# Load data"
   ]
  },
  {
   "cell_type": "code",
   "execution_count": 6,
   "id": "96972392",
   "metadata": {},
   "outputs": [],
   "source": [
    "import geopandas"
   ]
  },
  {
   "cell_type": "code",
   "execution_count": 7,
   "id": "7b5a53dd",
   "metadata": {},
   "outputs": [
    {
     "data": {
      "text/html": [
       "<div>\n",
       "<style scoped>\n",
       "    .dataframe tbody tr th:only-of-type {\n",
       "        vertical-align: middle;\n",
       "    }\n",
       "\n",
       "    .dataframe tbody tr th {\n",
       "        vertical-align: top;\n",
       "    }\n",
       "\n",
       "    .dataframe thead th {\n",
       "        text-align: right;\n",
       "    }\n",
       "</style>\n",
       "<table border=\"1\" class=\"dataframe\">\n",
       "  <thead>\n",
       "    <tr style=\"text-align: right;\">\n",
       "      <th></th>\n",
       "      <th>CD_MUN</th>\n",
       "      <th>NM_MUN</th>\n",
       "      <th>SIGLA_UF</th>\n",
       "      <th>AREA_KM2</th>\n",
       "      <th>geometry</th>\n",
       "    </tr>\n",
       "  </thead>\n",
       "  <tbody>\n",
       "    <tr>\n",
       "      <th>0</th>\n",
       "      <td>2900108</td>\n",
       "      <td>Abaíra</td>\n",
       "      <td>BA</td>\n",
       "      <td>538.677</td>\n",
       "      <td>POLYGON ((-41.74667 -13.32509, -41.74679 -13.3...</td>\n",
       "    </tr>\n",
       "    <tr>\n",
       "      <th>1</th>\n",
       "      <td>2900207</td>\n",
       "      <td>Abaré</td>\n",
       "      <td>BA</td>\n",
       "      <td>1604.923</td>\n",
       "      <td>POLYGON ((-39.23481 -8.70419, -39.23427 -8.705...</td>\n",
       "    </tr>\n",
       "    <tr>\n",
       "      <th>2</th>\n",
       "      <td>2900306</td>\n",
       "      <td>Acajutiba</td>\n",
       "      <td>BA</td>\n",
       "      <td>181.475</td>\n",
       "      <td>POLYGON ((-38.02809 -11.75007, -38.02811 -11.7...</td>\n",
       "    </tr>\n",
       "    <tr>\n",
       "      <th>3</th>\n",
       "      <td>2900355</td>\n",
       "      <td>Adustina</td>\n",
       "      <td>BA</td>\n",
       "      <td>629.099</td>\n",
       "      <td>POLYGON ((-37.97867 -10.652, -37.97874 -10.652...</td>\n",
       "    </tr>\n",
       "    <tr>\n",
       "      <th>4</th>\n",
       "      <td>2900405</td>\n",
       "      <td>Água Fria</td>\n",
       "      <td>BA</td>\n",
       "      <td>742.775</td>\n",
       "      <td>POLYGON ((-38.60169 -11.92432, -38.59707 -11.9...</td>\n",
       "    </tr>\n",
       "    <tr>\n",
       "      <th>...</th>\n",
       "      <td>...</td>\n",
       "      <td>...</td>\n",
       "      <td>...</td>\n",
       "      <td>...</td>\n",
       "      <td>...</td>\n",
       "    </tr>\n",
       "    <tr>\n",
       "      <th>412</th>\n",
       "      <td>2933307</td>\n",
       "      <td>Vitória da Conquista</td>\n",
       "      <td>BA</td>\n",
       "      <td>3254.186</td>\n",
       "      <td>POLYGON ((-40.71779 -14.88926, -40.71774 -14.8...</td>\n",
       "    </tr>\n",
       "    <tr>\n",
       "      <th>413</th>\n",
       "      <td>2933406</td>\n",
       "      <td>Wagner</td>\n",
       "      <td>BA</td>\n",
       "      <td>522.370</td>\n",
       "      <td>POLYGON ((-41.06276 -12.28494, -41.07128 -12.2...</td>\n",
       "    </tr>\n",
       "    <tr>\n",
       "      <th>414</th>\n",
       "      <td>2933455</td>\n",
       "      <td>Wanderley</td>\n",
       "      <td>BA</td>\n",
       "      <td>2920.579</td>\n",
       "      <td>POLYGON ((-43.82392 -12.12517, -43.82324 -12.1...</td>\n",
       "    </tr>\n",
       "    <tr>\n",
       "      <th>415</th>\n",
       "      <td>2933505</td>\n",
       "      <td>Wenceslau Guimarães</td>\n",
       "      <td>BA</td>\n",
       "      <td>655.057</td>\n",
       "      <td>POLYGON ((-39.49336 -13.60308, -39.49335 -13.6...</td>\n",
       "    </tr>\n",
       "    <tr>\n",
       "      <th>416</th>\n",
       "      <td>2933604</td>\n",
       "      <td>Xique-Xique</td>\n",
       "      <td>BA</td>\n",
       "      <td>5079.662</td>\n",
       "      <td>POLYGON ((-42.52305 -10.90382, -42.52306 -10.9...</td>\n",
       "    </tr>\n",
       "  </tbody>\n",
       "</table>\n",
       "<p>417 rows × 5 columns</p>\n",
       "</div>"
      ],
      "text/plain": [
       "      CD_MUN                NM_MUN SIGLA_UF  AREA_KM2  \\\n",
       "0    2900108                Abaíra       BA   538.677   \n",
       "1    2900207                 Abaré       BA  1604.923   \n",
       "2    2900306             Acajutiba       BA   181.475   \n",
       "3    2900355              Adustina       BA   629.099   \n",
       "4    2900405             Água Fria       BA   742.775   \n",
       "..       ...                   ...      ...       ...   \n",
       "412  2933307  Vitória da Conquista       BA  3254.186   \n",
       "413  2933406                Wagner       BA   522.370   \n",
       "414  2933455             Wanderley       BA  2920.579   \n",
       "415  2933505   Wenceslau Guimarães       BA   655.057   \n",
       "416  2933604           Xique-Xique       BA  5079.662   \n",
       "\n",
       "                                              geometry  \n",
       "0    POLYGON ((-41.74667 -13.32509, -41.74679 -13.3...  \n",
       "1    POLYGON ((-39.23481 -8.70419, -39.23427 -8.705...  \n",
       "2    POLYGON ((-38.02809 -11.75007, -38.02811 -11.7...  \n",
       "3    POLYGON ((-37.97867 -10.652, -37.97874 -10.652...  \n",
       "4    POLYGON ((-38.60169 -11.92432, -38.59707 -11.9...  \n",
       "..                                                 ...  \n",
       "412  POLYGON ((-40.71779 -14.88926, -40.71774 -14.8...  \n",
       "413  POLYGON ((-41.06276 -12.28494, -41.07128 -12.2...  \n",
       "414  POLYGON ((-43.82392 -12.12517, -43.82324 -12.1...  \n",
       "415  POLYGON ((-39.49336 -13.60308, -39.49335 -13.6...  \n",
       "416  POLYGON ((-42.52305 -10.90382, -42.52306 -10.9...  \n",
       "\n",
       "[417 rows x 5 columns]"
      ]
     },
     "execution_count": 7,
     "metadata": {},
     "output_type": "execute_result"
    }
   ],
   "source": [
    "data = geopandas.read_file('datasets/BA_Municipios_2022/BA_Municipios_2022.dbf')\n",
    "data"
   ]
  },
  {
   "cell_type": "code",
   "execution_count": 8,
   "id": "952cdf7c-990a-4003-a38e-9be78a35a529",
   "metadata": {},
   "outputs": [],
   "source": [
    "data.drop(['NM_MUN','SIGLA_UF'],axis=1,inplace=True)"
   ]
  },
  {
   "cell_type": "code",
   "execution_count": 9,
   "id": "f48f5603-4415-46e5-a0dd-37e754739ff7",
   "metadata": {},
   "outputs": [],
   "source": [
    "db_path = 'sql/eleicao.db' "
   ]
  },
  {
   "cell_type": "code",
   "execution_count": 10,
   "id": "d025eedd-0b51-4090-bd5b-1ee43ba169a4",
   "metadata": {},
   "outputs": [],
   "source": [
    "data.to_file(db_path, driver='SQLite',layer=\"municipio\")"
   ]
  }
 ],
 "metadata": {
  "kernelspec": {
   "display_name": "Python 3 (ipykernel)",
   "language": "python",
   "name": "python3"
  },
  "language_info": {
   "codemirror_mode": {
    "name": "ipython",
    "version": 3
   },
   "file_extension": ".py",
   "mimetype": "text/x-python",
   "name": "python",
   "nbconvert_exporter": "python",
   "pygments_lexer": "ipython3",
   "version": "3.12.0"
  }
 },
 "nbformat": 4,
 "nbformat_minor": 5
}

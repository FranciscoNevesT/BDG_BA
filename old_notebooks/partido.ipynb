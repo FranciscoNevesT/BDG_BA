{
 "cells": [
  {
   "cell_type": "markdown",
   "id": "b3ac3dee-2c0f-4c97-9607-2e06f0a06c43",
   "metadata": {},
   "source": [
    "# Download data"
   ]
  },
  {
   "cell_type": "code",
   "execution_count": 81,
   "id": "8cee4a2d-7c54-4510-8246-65814dd616fa",
   "metadata": {},
   "outputs": [],
   "source": [
    "import os\n",
    "import requests\n",
    "import zipfile"
   ]
  },
  {
   "cell_type": "code",
   "execution_count": 82,
   "id": "138d3ffa-a010-4c82-b128-54a6a160d06c",
   "metadata": {},
   "outputs": [],
   "source": [
    "def ensure_directory_exists(directory):\n",
    "    \"\"\"Ensure the directory exists. Create it if not.\"\"\"\n",
    "    if not os.path.exists(directory):\n",
    "        os.makedirs(directory)\n",
    "        print(f\"Directory '{directory}' created.\")\n",
    "        return False\n",
    "    else:\n",
    "        print(f\"Directory '{directory}' already exists.\")\n",
    "        return True"
   ]
  },
  {
   "cell_type": "code",
   "execution_count": 83,
   "id": "fc3123c3-1624-40d9-acd2-bb548914319a",
   "metadata": {},
   "outputs": [],
   "source": [
    "def download_file_if_not_exists(file_path, url):\n",
    "    \"\"\"Download a file if it does not exist.\"\"\"\n",
    "    if not os.path.exists(file_path):\n",
    "        response = requests.get(url, stream=True)\n",
    "        with open(file_path, 'wb') as file:\n",
    "            for chunk in response.iter_content(chunk_size=1024):\n",
    "                file.write(chunk)\n",
    "        print(f\"Downloaded '{file_path}'.\")\n",
    "    else:\n",
    "        print(f\"File '{file_path}' already exists.\")"
   ]
  },
  {
   "cell_type": "code",
   "execution_count": 84,
   "id": "b2f03633-1ebe-445f-9f27-244e8fc0b819",
   "metadata": {},
   "outputs": [],
   "source": [
    "def unzip(zip_path, extract_to):\n",
    "    \"\"\"Unzip a file and delete the .zip file afterward.\"\"\"\n",
    "    if zipfile.is_zipfile(zip_path):\n",
    "        with zipfile.ZipFile(zip_path, 'r') as zip_ref:\n",
    "            zip_ref.extractall(extract_to)\n",
    "        print(f\"Extracted '{zip_path}' to '{extract_to}'.\")\n",
    "    else:\n",
    "        print(f\"'{zip_path}' is not a valid zip file.\")"
   ]
  },
  {
   "cell_type": "code",
   "execution_count": 85,
   "id": "c5f9a6cb-a36f-4e1e-9f0a-b2344c41b41d",
   "metadata": {},
   "outputs": [
    {
     "name": "stdout",
     "output_type": "stream",
     "text": [
      "Directory 'datasets' created.\n",
      "Directory 'datasets/votacao_partido_munzona_2022' created.\n",
      "Downloaded 'datasets/votacao_partido_munzona_2022.zip'.\n",
      "Extracted 'datasets/votacao_partido_munzona_2022.zip' to 'datasets/votacao_partido_munzona_2022'.\n"
     ]
    }
   ],
   "source": [
    "# Main execution\n",
    "directory = \"datasets\"\n",
    "zip_file_path = os.path.join(directory, \"votacao_partido_munzona_2022.zip\")\n",
    "download_url = \"https://cdn.tse.jus.br/estatistica/sead/odsele/votacao_partido_munzona/votacao_partido_munzona_2022.zip\"  # Replace with the actual URL\n",
    "directory_out = zip_file_path.split(\".\")[0]\n",
    "\n",
    "# Ensure directory exists\n",
    "ensure_directory_exists(directory)\n",
    "ensure_directory_exists(directory_out)\n",
    "\n",
    "# Download the file if it doesn't exist\n",
    "download_file_if_not_exists(zip_file_path, download_url)\n",
    "\n",
    "# Unzip the file and delete the .zip\n",
    "unzip(zip_file_path, directory_out)"
   ]
  },
  {
   "cell_type": "markdown",
   "id": "178b3e46-bc18-4c78-a67d-69b4f139245b",
   "metadata": {},
   "source": [
    "# Carregando dados"
   ]
  },
  {
   "cell_type": "code",
   "execution_count": 86,
   "id": "74789410",
   "metadata": {},
   "outputs": [],
   "source": [
    "import pandas as pd\n",
    "import numpy as np\n",
    "import matplotlib.pyplot as plt\n",
    "import seaborn as sns"
   ]
  },
  {
   "cell_type": "code",
   "execution_count": 87,
   "id": "2b070979",
   "metadata": {},
   "outputs": [],
   "source": [
    "try:\n",
    "    with open(\"datasets/votacao_partido_munzona_2022/votacao_partido_munzona_2022_BA.csv\",\"r\") as file:\n",
    "        text = file.read()\n",
    "except UnicodeDecodeError:\n",
    "    with open(\"datasets/votacao_partido_munzona_2022/votacao_partido_munzona_2022_BA.csv\",\"rb\") as file:\n",
    "        text = file.read().decode(\"latin1\")"
   ]
  },
  {
   "cell_type": "code",
   "execution_count": 88,
   "id": "2d724f4d",
   "metadata": {},
   "outputs": [],
   "source": [
    "data = []\n",
    "for line in text.split(\"\\n\"):\n",
    "    campos = line.split(\";\")\n",
    "    if len(campos) == 36:\n",
    "        data.append(campos)\n",
    "        \n",
    "columns = data[0]\n",
    "columns = [i[1:-1] for i in columns]\n",
    "data = data[1:]\n",
    "data = pd.DataFrame(data,columns = columns)"
   ]
  },
  {
   "cell_type": "code",
   "execution_count": 89,
   "id": "41140491",
   "metadata": {},
   "outputs": [],
   "source": [
    "columns = data.columns \n",
    "for i in columns:\n",
    "    if len(data[i].unique()) == 1:\n",
    "        data.drop(i,axis=1,inplace=True)"
   ]
  },
  {
   "cell_type": "markdown",
   "id": "e947bca3",
   "metadata": {},
   "source": [
    "# Passar nulo para np.nan"
   ]
  },
  {
   "cell_type": "code",
   "execution_count": 90,
   "id": "58dd986d",
   "metadata": {},
   "outputs": [],
   "source": [
    "nulo = data['SG_FEDERACAO'].values[0]"
   ]
  },
  {
   "cell_type": "code",
   "execution_count": 91,
   "id": "9a26d068",
   "metadata": {},
   "outputs": [],
   "source": [
    "data.replace(nulo,value=pd.NA,inplace=True)"
   ]
  },
  {
   "cell_type": "code",
   "execution_count": 92,
   "id": "e1611384",
   "metadata": {},
   "outputs": [
    {
     "data": {
      "text/plain": [
       "NR_TURNO                      0.000000\n",
       "CD_ELEICAO                    0.000000\n",
       "DT_ELEICAO                    0.000000\n",
       "CD_MUNICIPIO                  0.000000\n",
       "NM_MUNICIPIO                  0.000000\n",
       "NR_ZONA                       0.000000\n",
       "CD_CARGO                      0.000000\n",
       "DS_CARGO                      0.000000\n",
       "TP_AGREMIACAO                 0.000000\n",
       "NR_PARTIDO                    0.000000\n",
       "SG_PARTIDO                    0.000000\n",
       "NM_PARTIDO                    0.000000\n",
       "NR_FEDERACAO                  0.000000\n",
       "NM_FEDERACAO                  0.742857\n",
       "SG_FEDERACAO                  0.742857\n",
       "DS_COMPOSICAO_FEDERACAO       0.742857\n",
       "SQ_COLIGACAO                  0.000000\n",
       "NM_COLIGACAO                  0.000000\n",
       "DS_COMPOSICAO_COLIGACAO       0.000000\n",
       "QT_VOTOS_LEGENDA_VALIDOS      0.000000\n",
       "QT_TOTAL_VOTOS_LEG_VALIDOS    0.000000\n",
       "QT_VOTOS_NOMINAIS_VALIDOS     0.000000\n",
       "dtype: float64"
      ]
     },
     "execution_count": 92,
     "metadata": {},
     "output_type": "execute_result"
    }
   ],
   "source": [
    "data.isnull().mean(axis=0)"
   ]
  },
  {
   "cell_type": "markdown",
   "id": "13c227f5",
   "metadata": {},
   "source": [
    "# Tirar alguns redudantes"
   ]
  },
  {
   "cell_type": "code",
   "execution_count": 93,
   "id": "61a626ce",
   "metadata": {},
   "outputs": [
    {
     "name": "stdout",
     "output_type": "stream",
     "text": [
      "['1' '2']\n",
      "NR_TURNO\n",
      "\n",
      "['546' '547']\n",
      "CD_ELEICAO\n",
      "\n",
      "['\"02/10/2022\"' '\"30/10/2022\"']\n",
      "DT_ELEICAO\n",
      "\n",
      "['7' '6' '3' '5']\n",
      "CD_CARGO\n",
      "\n",
      "['\"Deputado Estadual\"' '\"Deputado Federal\"' '\"Governador\"' '\"Senador\"']\n",
      "DS_CARGO\n",
      "\n",
      "['\"Partido isolado\"' '\"Federação\"' '\"Coligação\"']\n",
      "TP_AGREMIACAO\n",
      "\n",
      "['-1' '2' '1' '3']\n",
      "NR_FEDERACAO\n",
      "\n",
      "[<NA> '\"Federação Brasil da Esperança - FE BRASIL\"'\n",
      " '\"Federação PSDB Cidadania\"' '\"Federação PSOL REDE\"']\n",
      "NM_FEDERACAO\n",
      "\n",
      "[<NA> '\"PT/PC do B/PV\"' '\"PSDB/CIDADANIA\"' '\"PSOL/REDE\"']\n",
      "SG_FEDERACAO\n",
      "\n",
      "[<NA> '\"PC do B / PT / PV\"' '\"CIDADANIA / PSDB\"' '\"PSOL / REDE\"']\n",
      "DS_COMPOSICAO_FEDERACAO\n",
      "\n",
      "['\"PARTIDO ISOLADO\"' '\"FEDERAÇÃO\"' '\"PRA MUDAR A BAHIA\"'\n",
      " '\"PELA BAHIA, PELO BRASIL\"' '\"Agora é a vez do povo\"'\n",
      " '\" PELA BAHIA,PELO BRASIL\"' '\"BAHIA DE MÃOS DADAS COM O BRASIL \"'\n",
      " '\"Juntos Vamos Governar\"' '\"BAHIA DE MÃOS DADAS COM O BRASIL\"']\n",
      "NM_COLIGACAO\n",
      "\n"
     ]
    }
   ],
   "source": [
    "for i in data.columns:\n",
    "    if len(data[i].unique()) < 10:\n",
    "        print(data[i].unique())\n",
    "        print(i)\n",
    "        print()\n",
    "    "
   ]
  },
  {
   "cell_type": "code",
   "execution_count": 94,
   "id": "c7df4ae0",
   "metadata": {},
   "outputs": [],
   "source": [
    "redudante = ['CD_ELEICAO','DT_ELEICAO','NR_FEDERACAO','CD_CARGO']\n",
    "data.drop(redudante,axis=1,inplace=True)"
   ]
  },
  {
   "cell_type": "markdown",
   "id": "c690bd53",
   "metadata": {},
   "source": [
    "# Corrigir strings"
   ]
  },
  {
   "cell_type": "code",
   "execution_count": 95,
   "id": "93569683",
   "metadata": {},
   "outputs": [],
   "source": [
    "def remove_aspas(x):\n",
    "    if isinstance(x,str) == False:\n",
    "        return x\n",
    "    x = [i for i in x if i !=\"\\\"\"]\n",
    "    return ''.join(x)\n",
    "    \n",
    "for i in data.columns:\n",
    "    data[i] = data[i].apply(remove_aspas)"
   ]
  },
  {
   "cell_type": "markdown",
   "id": "ddd9edaf",
   "metadata": {},
   "source": [
    "# Tipos"
   ]
  },
  {
   "cell_type": "code",
   "execution_count": 96,
   "id": "83cadf3a",
   "metadata": {},
   "outputs": [],
   "source": [
    "for i in data.columns:\n",
    "    try:\n",
    "        data[i] = data[i].astype(int)\n",
    "    except:\n",
    "        pass"
   ]
  },
  {
   "cell_type": "markdown",
   "id": "167b5eb4",
   "metadata": {},
   "source": [
    "# Alinhar municipios"
   ]
  },
  {
   "cell_type": "code",
   "execution_count": 97,
   "id": "cbd62b05",
   "metadata": {},
   "outputs": [],
   "source": [
    "import geopandas"
   ]
  },
  {
   "cell_type": "code",
   "execution_count": 98,
   "id": "c0f915cb",
   "metadata": {},
   "outputs": [],
   "source": [
    "def ensure_directory_exists(directory):\n",
    "    \"\"\"Ensure the directory exists. Create it if not.\"\"\"\n",
    "    if not os.path.exists(directory):\n",
    "        os.makedirs(directory)\n",
    "        print(f\"Directory '{directory}' created.\")\n",
    "        return False\n",
    "    else:\n",
    "        print(f\"Directory '{directory}' already exists.\")\n",
    "        return True"
   ]
  },
  {
   "cell_type": "code",
   "execution_count": 99,
   "id": "8de955c5",
   "metadata": {},
   "outputs": [],
   "source": [
    "def download_file_if_not_exists(file_path, url):\n",
    "    \"\"\"Download a file if it does not exist.\"\"\"\n",
    "    if not os.path.exists(file_path):\n",
    "        response = requests.get(url, stream=True)\n",
    "        with open(file_path, 'wb') as file:\n",
    "            for chunk in response.iter_content(chunk_size=1024):\n",
    "                file.write(chunk)\n",
    "        print(f\"Downloaded '{file_path}'.\")\n",
    "    else:\n",
    "        print(f\"File '{file_path}' already exists.\")"
   ]
  },
  {
   "cell_type": "code",
   "execution_count": 100,
   "id": "ad3d374f",
   "metadata": {},
   "outputs": [],
   "source": [
    "def unzip(zip_path, extract_to):\n",
    "    \"\"\"Unzip a file and delete the .zip file afterward.\"\"\"\n",
    "    if zipfile.is_zipfile(zip_path):\n",
    "        with zipfile.ZipFile(zip_path, 'r') as zip_ref:\n",
    "            zip_ref.extractall(extract_to)\n",
    "        print(f\"Extracted '{zip_path}' to '{extract_to}'.\")\n",
    "    else:\n",
    "        print(f\"'{zip_path}' is not a valid zip file.\")"
   ]
  },
  {
   "cell_type": "code",
   "execution_count": 101,
   "id": "54c7c0ce",
   "metadata": {},
   "outputs": [
    {
     "name": "stdout",
     "output_type": "stream",
     "text": [
      "Directory 'datasets' already exists.\n",
      "Directory 'datasets/BA_Municipios_2022' created.\n",
      "Downloaded 'datasets/BA_Municipios_2022.zip'.\n",
      "Extracted 'datasets/BA_Municipios_2022.zip' to 'datasets/BA_Municipios_2022'.\n"
     ]
    }
   ],
   "source": [
    "# Main execution\n",
    "directory = \"datasets\"\n",
    "zip_file_path = os.path.join(directory, \"BA_Municipios_2022.zip\")\n",
    "download_url = \"https://geoftp.ibge.gov.br/organizacao_do_territorio/malhas_territoriais/malhas_municipais/municipio_2022/UFs/BA/BA_Municipios_2022.zip\"  # Replace with the actual URL\n",
    "directory_out = zip_file_path.split(\".\")[0]\n",
    "\n",
    "# Ensure directory exists\n",
    "ensure_directory_exists(directory)\n",
    "ensure_directory_exists(directory_out)\n",
    "\n",
    "# Download the file if it doesn't exist\n",
    "download_file_if_not_exists(zip_file_path, download_url)\n",
    "\n",
    "# Unzip the file and delete the .zip\n",
    "unzip(zip_file_path, directory_out)"
   ]
  },
  {
   "cell_type": "code",
   "execution_count": 102,
   "id": "d4367d55",
   "metadata": {},
   "outputs": [
    {
     "data": {
      "text/html": [
       "<div>\n",
       "<style scoped>\n",
       "    .dataframe tbody tr th:only-of-type {\n",
       "        vertical-align: middle;\n",
       "    }\n",
       "\n",
       "    .dataframe tbody tr th {\n",
       "        vertical-align: top;\n",
       "    }\n",
       "\n",
       "    .dataframe thead th {\n",
       "        text-align: right;\n",
       "    }\n",
       "</style>\n",
       "<table border=\"1\" class=\"dataframe\">\n",
       "  <thead>\n",
       "    <tr style=\"text-align: right;\">\n",
       "      <th></th>\n",
       "      <th>CD_MUN</th>\n",
       "      <th>NM_MUN</th>\n",
       "      <th>SIGLA_UF</th>\n",
       "      <th>AREA_KM2</th>\n",
       "      <th>geometry</th>\n",
       "    </tr>\n",
       "  </thead>\n",
       "  <tbody>\n",
       "    <tr>\n",
       "      <th>0</th>\n",
       "      <td>2900108</td>\n",
       "      <td>Abaíra</td>\n",
       "      <td>BA</td>\n",
       "      <td>538.677</td>\n",
       "      <td>POLYGON ((-41.74667 -13.32509, -41.74679 -13.3...</td>\n",
       "    </tr>\n",
       "    <tr>\n",
       "      <th>1</th>\n",
       "      <td>2900207</td>\n",
       "      <td>Abaré</td>\n",
       "      <td>BA</td>\n",
       "      <td>1604.923</td>\n",
       "      <td>POLYGON ((-39.23481 -8.70419, -39.23427 -8.705...</td>\n",
       "    </tr>\n",
       "    <tr>\n",
       "      <th>2</th>\n",
       "      <td>2900306</td>\n",
       "      <td>Acajutiba</td>\n",
       "      <td>BA</td>\n",
       "      <td>181.475</td>\n",
       "      <td>POLYGON ((-38.02809 -11.75007, -38.02811 -11.7...</td>\n",
       "    </tr>\n",
       "    <tr>\n",
       "      <th>3</th>\n",
       "      <td>2900355</td>\n",
       "      <td>Adustina</td>\n",
       "      <td>BA</td>\n",
       "      <td>629.099</td>\n",
       "      <td>POLYGON ((-37.97867 -10.652, -37.97874 -10.652...</td>\n",
       "    </tr>\n",
       "    <tr>\n",
       "      <th>4</th>\n",
       "      <td>2900405</td>\n",
       "      <td>Água Fria</td>\n",
       "      <td>BA</td>\n",
       "      <td>742.775</td>\n",
       "      <td>POLYGON ((-38.60169 -11.92432, -38.59707 -11.9...</td>\n",
       "    </tr>\n",
       "    <tr>\n",
       "      <th>...</th>\n",
       "      <td>...</td>\n",
       "      <td>...</td>\n",
       "      <td>...</td>\n",
       "      <td>...</td>\n",
       "      <td>...</td>\n",
       "    </tr>\n",
       "    <tr>\n",
       "      <th>412</th>\n",
       "      <td>2933307</td>\n",
       "      <td>Vitória da Conquista</td>\n",
       "      <td>BA</td>\n",
       "      <td>3254.186</td>\n",
       "      <td>POLYGON ((-40.71779 -14.88926, -40.71774 -14.8...</td>\n",
       "    </tr>\n",
       "    <tr>\n",
       "      <th>413</th>\n",
       "      <td>2933406</td>\n",
       "      <td>Wagner</td>\n",
       "      <td>BA</td>\n",
       "      <td>522.370</td>\n",
       "      <td>POLYGON ((-41.06276 -12.28494, -41.07128 -12.2...</td>\n",
       "    </tr>\n",
       "    <tr>\n",
       "      <th>414</th>\n",
       "      <td>2933455</td>\n",
       "      <td>Wanderley</td>\n",
       "      <td>BA</td>\n",
       "      <td>2920.579</td>\n",
       "      <td>POLYGON ((-43.82392 -12.12517, -43.82324 -12.1...</td>\n",
       "    </tr>\n",
       "    <tr>\n",
       "      <th>415</th>\n",
       "      <td>2933505</td>\n",
       "      <td>Wenceslau Guimarães</td>\n",
       "      <td>BA</td>\n",
       "      <td>655.057</td>\n",
       "      <td>POLYGON ((-39.49336 -13.60308, -39.49335 -13.6...</td>\n",
       "    </tr>\n",
       "    <tr>\n",
       "      <th>416</th>\n",
       "      <td>2933604</td>\n",
       "      <td>Xique-Xique</td>\n",
       "      <td>BA</td>\n",
       "      <td>5079.662</td>\n",
       "      <td>POLYGON ((-42.52305 -10.90382, -42.52306 -10.9...</td>\n",
       "    </tr>\n",
       "  </tbody>\n",
       "</table>\n",
       "<p>417 rows × 5 columns</p>\n",
       "</div>"
      ],
      "text/plain": [
       "      CD_MUN                NM_MUN SIGLA_UF  AREA_KM2  \\\n",
       "0    2900108                Abaíra       BA   538.677   \n",
       "1    2900207                 Abaré       BA  1604.923   \n",
       "2    2900306             Acajutiba       BA   181.475   \n",
       "3    2900355              Adustina       BA   629.099   \n",
       "4    2900405             Água Fria       BA   742.775   \n",
       "..       ...                   ...      ...       ...   \n",
       "412  2933307  Vitória da Conquista       BA  3254.186   \n",
       "413  2933406                Wagner       BA   522.370   \n",
       "414  2933455             Wanderley       BA  2920.579   \n",
       "415  2933505   Wenceslau Guimarães       BA   655.057   \n",
       "416  2933604           Xique-Xique       BA  5079.662   \n",
       "\n",
       "                                              geometry  \n",
       "0    POLYGON ((-41.74667 -13.32509, -41.74679 -13.3...  \n",
       "1    POLYGON ((-39.23481 -8.70419, -39.23427 -8.705...  \n",
       "2    POLYGON ((-38.02809 -11.75007, -38.02811 -11.7...  \n",
       "3    POLYGON ((-37.97867 -10.652, -37.97874 -10.652...  \n",
       "4    POLYGON ((-38.60169 -11.92432, -38.59707 -11.9...  \n",
       "..                                                 ...  \n",
       "412  POLYGON ((-40.71779 -14.88926, -40.71774 -14.8...  \n",
       "413  POLYGON ((-41.06276 -12.28494, -41.07128 -12.2...  \n",
       "414  POLYGON ((-43.82392 -12.12517, -43.82324 -12.1...  \n",
       "415  POLYGON ((-39.49336 -13.60308, -39.49335 -13.6...  \n",
       "416  POLYGON ((-42.52305 -10.90382, -42.52306 -10.9...  \n",
       "\n",
       "[417 rows x 5 columns]"
      ]
     },
     "execution_count": 102,
     "metadata": {},
     "output_type": "execute_result"
    }
   ],
   "source": [
    "mun = geopandas.read_file('datasets/BA_Municipios_2022/BA_Municipios_2022.dbf')\n",
    "mun_names = mun['NM_MUN'].apply(lambda x: x.upper()).values\n",
    "mun"
   ]
  },
  {
   "cell_type": "code",
   "execution_count": 103,
   "id": "215a74d7",
   "metadata": {},
   "outputs": [
    {
     "name": "stdout",
     "output_type": "stream",
     "text": [
      "CAEM\n",
      "SANTO ESTEVÃO\n",
      "DIAS D ÁVILA\n",
      "CAMACÃ\n"
     ]
    }
   ],
   "source": [
    "for i in data['NM_MUNICIPIO'].unique():\n",
    "    if i not in mun_names:\n",
    "        print(i)"
   ]
  },
  {
   "cell_type": "code",
   "execution_count": 104,
   "id": "541310aa",
   "metadata": {},
   "outputs": [
    {
     "data": {
      "text/plain": [
       "417"
      ]
     },
     "execution_count": 104,
     "metadata": {},
     "output_type": "execute_result"
    }
   ],
   "source": [
    "len(data['NM_MUNICIPIO'].unique())"
   ]
  },
  {
   "cell_type": "code",
   "execution_count": 105,
   "id": "534112c6",
   "metadata": {},
   "outputs": [],
   "source": [
    "data.replace('CAMACÃ', 'CAMACAN',inplace=True)\n",
    "data.replace('SANTO ESTEVÃO', 'SANTO ESTÊVÃO',inplace=True)\n",
    "data.replace('CAEM', 'CAÉM',inplace=True)\n",
    "data.replace('DIAS D ÁVILA', 'DIAS D\\'ÁVILA',inplace=True)"
   ]
  },
  {
   "cell_type": "code",
   "execution_count": 106,
   "id": "bcb7c5e1-9a53-4507-9e3d-02c9d6303dc0",
   "metadata": {},
   "outputs": [],
   "source": [
    "mun_dict = {nm_mun.upper():cd_mun for cd_mun,nm_mun in mun[['CD_MUN','NM_MUN']].values }"
   ]
  },
  {
   "cell_type": "code",
   "execution_count": 107,
   "id": "4c3ed27a-59d5-4606-bad4-ba7d5c124731",
   "metadata": {},
   "outputs": [],
   "source": [
    "data['CD_MUN'] = data['NM_MUNICIPIO'].apply(lambda x: mun_dict[x])\n",
    "data['NM_MUN'] = data['NM_MUNICIPIO']"
   ]
  },
  {
   "cell_type": "code",
   "execution_count": 108,
   "id": "fcab1ee2-efbb-4300-a71c-5b6f1a08020a",
   "metadata": {},
   "outputs": [],
   "source": [
    "data.drop(['CD_MUNICIPIO','NM_MUNICIPIO'],axis=1,inplace=True)"
   ]
  },
  {
   "cell_type": "markdown",
   "id": "28005120",
   "metadata": {},
   "source": [
    "# SQL"
   ]
  },
  {
   "cell_type": "code",
   "execution_count": 109,
   "id": "4ded625c",
   "metadata": {},
   "outputs": [],
   "source": [
    "import sqlite3"
   ]
  },
  {
   "cell_type": "code",
   "execution_count": 110,
   "id": "17fcfb9f",
   "metadata": {},
   "outputs": [],
   "source": [
    "db_path = 'sql/eleicao.db' \n",
    "connection = sqlite3.connect(db_path)"
   ]
  },
  {
   "cell_type": "markdown",
   "id": "a25928aa-7254-459e-8717-592e30ae6b51",
   "metadata": {},
   "source": [
    "## votos_partido"
   ]
  },
  {
   "cell_type": "code",
   "execution_count": 111,
   "id": "aa942ec9-f9ce-4137-95f0-3de5ce245c26",
   "metadata": {},
   "outputs": [
    {
     "data": {
      "text/plain": [
       "Index(['NR_TURNO', 'NR_ZONA', 'DS_CARGO', 'TP_AGREMIACAO', 'NR_PARTIDO',\n",
       "       'SG_PARTIDO', 'NM_PARTIDO', 'NM_FEDERACAO', 'SG_FEDERACAO',\n",
       "       'DS_COMPOSICAO_FEDERACAO', 'SQ_COLIGACAO', 'NM_COLIGACAO',\n",
       "       'DS_COMPOSICAO_COLIGACAO', 'QT_VOTOS_LEGENDA_VALIDOS',\n",
       "       'QT_TOTAL_VOTOS_LEG_VALIDOS', 'QT_VOTOS_NOMINAIS_VALIDOS', 'CD_MUN',\n",
       "       'NM_MUN'],\n",
       "      dtype='object')"
      ]
     },
     "execution_count": 111,
     "metadata": {},
     "output_type": "execute_result"
    }
   ],
   "source": [
    "data.columns"
   ]
  },
  {
   "cell_type": "code",
   "execution_count": 112,
   "id": "4c7b8bec-cd61-4282-abc4-45e7862c50f8",
   "metadata": {},
   "outputs": [],
   "source": [
    "votos_partido = data[['CD_MUN','NR_TURNO','NR_ZONA','DS_CARGO','NR_PARTIDO','QT_VOTOS_LEGENDA_VALIDOS',\n",
    "                'QT_TOTAL_VOTOS_LEG_VALIDOS','QT_VOTOS_NOMINAIS_VALIDOS', 'SQ_COLIGACAO']]"
   ]
  },
  {
   "cell_type": "code",
   "execution_count": 113,
   "id": "0c185aaa",
   "metadata": {},
   "outputs": [
    {
     "data": {
      "text/plain": [
       "31500"
      ]
     },
     "execution_count": 113,
     "metadata": {},
     "output_type": "execute_result"
    }
   ],
   "source": [
    "# Converter o DataFrame em uma tabela SQL\n",
    "table_name = 'votos_partido'\n",
    "votos_partido.to_sql(table_name, connection, if_exists='replace', index=False)"
   ]
  },
  {
   "cell_type": "markdown",
   "id": "3d86fdd0-e978-4336-862a-09a7af49442f",
   "metadata": {},
   "source": [
    "## partido"
   ]
  },
  {
   "cell_type": "code",
   "execution_count": 114,
   "id": "699715f2-75e4-4881-a78c-d75163a935ed",
   "metadata": {},
   "outputs": [
    {
     "data": {
      "text/html": [
       "<div>\n",
       "<style scoped>\n",
       "    .dataframe tbody tr th:only-of-type {\n",
       "        vertical-align: middle;\n",
       "    }\n",
       "\n",
       "    .dataframe tbody tr th {\n",
       "        vertical-align: top;\n",
       "    }\n",
       "\n",
       "    .dataframe thead th {\n",
       "        text-align: right;\n",
       "    }\n",
       "</style>\n",
       "<table border=\"1\" class=\"dataframe\">\n",
       "  <thead>\n",
       "    <tr style=\"text-align: right;\">\n",
       "      <th></th>\n",
       "      <th>NR_PARTIDO</th>\n",
       "      <th>NM_PARTIDO</th>\n",
       "      <th>TP_AGREMIACAO</th>\n",
       "      <th>SG_PARTIDO</th>\n",
       "    </tr>\n",
       "  </thead>\n",
       "  <tbody>\n",
       "    <tr>\n",
       "      <th>0</th>\n",
       "      <td>44</td>\n",
       "      <td>UNIÃO BRASIL</td>\n",
       "      <td>Partido isolado</td>\n",
       "      <td>UNIÃO</td>\n",
       "    </tr>\n",
       "    <tr>\n",
       "      <th>1</th>\n",
       "      <td>11</td>\n",
       "      <td>PROGRESSISTAS</td>\n",
       "      <td>Partido isolado</td>\n",
       "      <td>PP</td>\n",
       "    </tr>\n",
       "    <tr>\n",
       "      <th>2</th>\n",
       "      <td>35</td>\n",
       "      <td>Partido da Mulher Brasileira</td>\n",
       "      <td>Partido isolado</td>\n",
       "      <td>PMB</td>\n",
       "    </tr>\n",
       "    <tr>\n",
       "      <th>3</th>\n",
       "      <td>20</td>\n",
       "      <td>Partido Social Cristão</td>\n",
       "      <td>Partido isolado</td>\n",
       "      <td>PSC</td>\n",
       "    </tr>\n",
       "    <tr>\n",
       "      <th>4</th>\n",
       "      <td>43</td>\n",
       "      <td>Partido Verde</td>\n",
       "      <td>Federação</td>\n",
       "      <td>PV</td>\n",
       "    </tr>\n",
       "  </tbody>\n",
       "</table>\n",
       "</div>"
      ],
      "text/plain": [
       "   NR_PARTIDO                    NM_PARTIDO    TP_AGREMIACAO SG_PARTIDO\n",
       "0          44                  UNIÃO BRASIL  Partido isolado      UNIÃO\n",
       "1          11                 PROGRESSISTAS  Partido isolado         PP\n",
       "2          35  Partido da Mulher Brasileira  Partido isolado        PMB\n",
       "3          20        Partido Social Cristão  Partido isolado        PSC\n",
       "4          43                 Partido Verde        Federação         PV"
      ]
     },
     "execution_count": 114,
     "metadata": {},
     "output_type": "execute_result"
    }
   ],
   "source": [
    "partido = data[['NR_PARTIDO','NM_PARTIDO','TP_AGREMIACAO','SG_PARTIDO']].drop_duplicates().dropna().reset_index(drop=True)\n",
    "partido.head()"
   ]
  },
  {
   "cell_type": "code",
   "execution_count": 115,
   "id": "0b31fe94-42b8-404a-97ed-6d248a8a84df",
   "metadata": {},
   "outputs": [
    {
     "data": {
      "text/plain": [
       "37"
      ]
     },
     "execution_count": 115,
     "metadata": {},
     "output_type": "execute_result"
    }
   ],
   "source": [
    "# Converter o DataFrame em uma tabela SQL\n",
    "table_name = 'partido'\n",
    "partido.to_sql(table_name, connection, if_exists='replace', index=False)"
   ]
  },
  {
   "cell_type": "markdown",
   "id": "f88eee44-300a-432f-883d-4375e2be0ecb",
   "metadata": {},
   "source": [
    "## federação"
   ]
  },
  {
   "cell_type": "code",
   "execution_count": 116,
   "id": "5b04c4ac-eae6-42c6-a0d1-d5511a691c49",
   "metadata": {},
   "outputs": [
    {
     "data": {
      "text/html": [
       "<div>\n",
       "<style scoped>\n",
       "    .dataframe tbody tr th:only-of-type {\n",
       "        vertical-align: middle;\n",
       "    }\n",
       "\n",
       "    .dataframe tbody tr th {\n",
       "        vertical-align: top;\n",
       "    }\n",
       "\n",
       "    .dataframe thead th {\n",
       "        text-align: right;\n",
       "    }\n",
       "</style>\n",
       "<table border=\"1\" class=\"dataframe\">\n",
       "  <thead>\n",
       "    <tr style=\"text-align: right;\">\n",
       "      <th></th>\n",
       "      <th>SG_FEDERACAO</th>\n",
       "      <th>NM_FEDERACAO</th>\n",
       "      <th>DS_COMPOSICAO_FEDERACAO</th>\n",
       "    </tr>\n",
       "  </thead>\n",
       "  <tbody>\n",
       "    <tr>\n",
       "      <th>0</th>\n",
       "      <td>PT/PC do B/PV</td>\n",
       "      <td>Federação Brasil da Esperança - FE BRASIL</td>\n",
       "      <td>PC do B / PT / PV</td>\n",
       "    </tr>\n",
       "    <tr>\n",
       "      <th>1</th>\n",
       "      <td>PSDB/CIDADANIA</td>\n",
       "      <td>Federação PSDB Cidadania</td>\n",
       "      <td>CIDADANIA / PSDB</td>\n",
       "    </tr>\n",
       "    <tr>\n",
       "      <th>2</th>\n",
       "      <td>PSOL/REDE</td>\n",
       "      <td>Federação PSOL REDE</td>\n",
       "      <td>PSOL / REDE</td>\n",
       "    </tr>\n",
       "  </tbody>\n",
       "</table>\n",
       "</div>"
      ],
      "text/plain": [
       "     SG_FEDERACAO                               NM_FEDERACAO  \\\n",
       "0   PT/PC do B/PV  Federação Brasil da Esperança - FE BRASIL   \n",
       "1  PSDB/CIDADANIA                   Federação PSDB Cidadania   \n",
       "2       PSOL/REDE                        Federação PSOL REDE   \n",
       "\n",
       "  DS_COMPOSICAO_FEDERACAO  \n",
       "0       PC do B / PT / PV  \n",
       "1        CIDADANIA / PSDB  \n",
       "2             PSOL / REDE  "
      ]
     },
     "execution_count": 116,
     "metadata": {},
     "output_type": "execute_result"
    }
   ],
   "source": [
    "federacao = data[['SG_FEDERACAO', 'NM_FEDERACAO','DS_COMPOSICAO_FEDERACAO']].drop_duplicates().dropna().reset_index(drop=True)\n",
    "federacao"
   ]
  },
  {
   "cell_type": "code",
   "execution_count": 117,
   "id": "8504f322-e8cf-416b-abec-d8ef9eb60c3e",
   "metadata": {},
   "outputs": [
    {
     "data": {
      "text/plain": [
       "3"
      ]
     },
     "execution_count": 117,
     "metadata": {},
     "output_type": "execute_result"
    }
   ],
   "source": [
    "# Converter o DataFrame em uma tabela SQL\n",
    "table_name = 'federacao'\n",
    "federacao.to_sql(table_name, connection, if_exists='replace', index=False)"
   ]
  },
  {
   "cell_type": "markdown",
   "id": "0487dcf2-6d4e-485e-af12-bfac6c111144",
   "metadata": {},
   "source": [
    "## coligação"
   ]
  },
  {
   "cell_type": "code",
   "execution_count": 118,
   "id": "6319fffe-c6a6-47f9-8ace-75d1c1df468c",
   "metadata": {},
   "outputs": [
    {
     "data": {
      "text/html": [
       "<div>\n",
       "<style scoped>\n",
       "    .dataframe tbody tr th:only-of-type {\n",
       "        vertical-align: middle;\n",
       "    }\n",
       "\n",
       "    .dataframe tbody tr th {\n",
       "        vertical-align: top;\n",
       "    }\n",
       "\n",
       "    .dataframe thead th {\n",
       "        text-align: right;\n",
       "    }\n",
       "</style>\n",
       "<table border=\"1\" class=\"dataframe\">\n",
       "  <thead>\n",
       "    <tr style=\"text-align: right;\">\n",
       "      <th></th>\n",
       "      <th>NM_COLIGACAO</th>\n",
       "      <th>SQ_COLIGACAO</th>\n",
       "      <th>DS_COMPOSICAO_COLIGACAO</th>\n",
       "    </tr>\n",
       "  </thead>\n",
       "  <tbody>\n",
       "    <tr>\n",
       "      <th>0</th>\n",
       "      <td>PARTIDO ISOLADO</td>\n",
       "      <td>50001683240</td>\n",
       "      <td>UNIÃO</td>\n",
       "    </tr>\n",
       "    <tr>\n",
       "      <th>1</th>\n",
       "      <td>PARTIDO ISOLADO</td>\n",
       "      <td>50001682242</td>\n",
       "      <td>PP</td>\n",
       "    </tr>\n",
       "    <tr>\n",
       "      <th>2</th>\n",
       "      <td>PARTIDO ISOLADO</td>\n",
       "      <td>50001683104</td>\n",
       "      <td>PMB</td>\n",
       "    </tr>\n",
       "    <tr>\n",
       "      <th>3</th>\n",
       "      <td>PARTIDO ISOLADO</td>\n",
       "      <td>50001681251</td>\n",
       "      <td>PSC</td>\n",
       "    </tr>\n",
       "    <tr>\n",
       "      <th>4</th>\n",
       "      <td>FEDERAÇÃO</td>\n",
       "      <td>50001681283</td>\n",
       "      <td>Federação Brasil da Esperança - FE BRASIL(PT/P...</td>\n",
       "    </tr>\n",
       "  </tbody>\n",
       "</table>\n",
       "</div>"
      ],
      "text/plain": [
       "      NM_COLIGACAO  SQ_COLIGACAO  \\\n",
       "0  PARTIDO ISOLADO   50001683240   \n",
       "1  PARTIDO ISOLADO   50001682242   \n",
       "2  PARTIDO ISOLADO   50001683104   \n",
       "3  PARTIDO ISOLADO   50001681251   \n",
       "4        FEDERAÇÃO   50001681283   \n",
       "\n",
       "                             DS_COMPOSICAO_COLIGACAO  \n",
       "0                                              UNIÃO  \n",
       "1                                                 PP  \n",
       "2                                                PMB  \n",
       "3                                                PSC  \n",
       "4  Federação Brasil da Esperança - FE BRASIL(PT/P...  "
      ]
     },
     "execution_count": 118,
     "metadata": {},
     "output_type": "execute_result"
    }
   ],
   "source": [
    "coligacao = data[['NM_COLIGACAO','SQ_COLIGACAO','DS_COMPOSICAO_COLIGACAO']].drop_duplicates().dropna().reset_index(drop=True)\n",
    "coligacao.head()"
   ]
  },
  {
   "cell_type": "code",
   "execution_count": 119,
   "id": "9dfa3f68-255a-4e26-9091-69f8eaea70db",
   "metadata": {},
   "outputs": [
    {
     "data": {
      "text/plain": [
       "60"
      ]
     },
     "execution_count": 119,
     "metadata": {},
     "output_type": "execute_result"
    }
   ],
   "source": [
    "# Converter o DataFrame em uma tabela SQL\n",
    "table_name = 'coligacao'\n",
    "coligacao.to_sql(table_name, connection, if_exists='replace', index=False)"
   ]
  },
  {
   "cell_type": "markdown",
   "id": "fc380ddf-06c0-4e0b-8759-c2a4b7aeeffe",
   "metadata": {},
   "source": [
    "## municipio"
   ]
  },
  {
   "cell_type": "code",
   "execution_count": 120,
   "id": "60e1b311-1148-409e-b4dc-f9eb8c3a525d",
   "metadata": {},
   "outputs": [
    {
     "data": {
      "text/html": [
       "<div>\n",
       "<style scoped>\n",
       "    .dataframe tbody tr th:only-of-type {\n",
       "        vertical-align: middle;\n",
       "    }\n",
       "\n",
       "    .dataframe tbody tr th {\n",
       "        vertical-align: top;\n",
       "    }\n",
       "\n",
       "    .dataframe thead th {\n",
       "        text-align: right;\n",
       "    }\n",
       "</style>\n",
       "<table border=\"1\" class=\"dataframe\">\n",
       "  <thead>\n",
       "    <tr style=\"text-align: right;\">\n",
       "      <th></th>\n",
       "      <th>CD_MUN</th>\n",
       "      <th>NM_MUN</th>\n",
       "    </tr>\n",
       "  </thead>\n",
       "  <tbody>\n",
       "    <tr>\n",
       "      <th>0</th>\n",
       "      <td>2926004</td>\n",
       "      <td>REMANSO</td>\n",
       "    </tr>\n",
       "    <tr>\n",
       "      <th>1</th>\n",
       "      <td>2905404</td>\n",
       "      <td>CAIRU</td>\n",
       "    </tr>\n",
       "    <tr>\n",
       "      <th>2</th>\n",
       "      <td>2901106</td>\n",
       "      <td>AMÉLIA RODRIGUES</td>\n",
       "    </tr>\n",
       "    <tr>\n",
       "      <th>3</th>\n",
       "      <td>2926202</td>\n",
       "      <td>RIACHÃO DAS NEVES</td>\n",
       "    </tr>\n",
       "    <tr>\n",
       "      <th>4</th>\n",
       "      <td>2924801</td>\n",
       "      <td>PIRITIBA</td>\n",
       "    </tr>\n",
       "  </tbody>\n",
       "</table>\n",
       "</div>"
      ],
      "text/plain": [
       "    CD_MUN             NM_MUN\n",
       "0  2926004            REMANSO\n",
       "1  2905404              CAIRU\n",
       "2  2901106   AMÉLIA RODRIGUES\n",
       "3  2926202  RIACHÃO DAS NEVES\n",
       "4  2924801           PIRITIBA"
      ]
     },
     "execution_count": 120,
     "metadata": {},
     "output_type": "execute_result"
    }
   ],
   "source": [
    "municipio = data[['CD_MUN','NM_MUN']].drop_duplicates().dropna().reset_index(drop=True)\n",
    "municipio.head()"
   ]
  },
  {
   "cell_type": "code",
   "execution_count": 121,
   "id": "434de5d8-ff43-4919-935c-c1688769a9e4",
   "metadata": {},
   "outputs": [
    {
     "data": {
      "text/plain": [
       "417"
      ]
     },
     "execution_count": 121,
     "metadata": {},
     "output_type": "execute_result"
    }
   ],
   "source": [
    "# Converter o DataFrame em uma tabela SQL\n",
    "table_name = 'municipio_nome'\n",
    "municipio.to_sql(table_name, connection, if_exists='replace', index=False)"
   ]
  },
  {
   "cell_type": "code",
   "execution_count": 122,
   "id": "499c4166-e6a5-4a9e-b9f0-6fd35e1dc43f",
   "metadata": {},
   "outputs": [],
   "source": [
    "# Fechar a conexão\n",
    "connection.close()"
   ]
  }
 ],
 "metadata": {
  "kernelspec": {
   "display_name": "Python 3 (ipykernel)",
   "language": "python",
   "name": "python3"
  },
  "language_info": {
   "codemirror_mode": {
    "name": "ipython",
    "version": 3
   },
   "file_extension": ".py",
   "mimetype": "text/x-python",
   "name": "python",
   "nbconvert_exporter": "python",
   "pygments_lexer": "ipython3",
   "version": "3.12.0"
  }
 },
 "nbformat": 4,
 "nbformat_minor": 5
}

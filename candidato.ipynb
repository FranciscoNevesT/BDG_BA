{
 "cells": [
  {
   "cell_type": "markdown",
   "id": "75a1c84c-9e8e-4cc0-bdd8-682c76215cde",
   "metadata": {},
   "source": [
    "# Download data"
   ]
  },
  {
   "cell_type": "code",
   "execution_count": 2,
   "id": "5974b0e9-bd12-496f-8458-c825c0a85f23",
   "metadata": {},
   "outputs": [],
   "source": [
    "import os\n",
    "import requests\n",
    "import zipfile"
   ]
  },
  {
   "cell_type": "code",
   "execution_count": 3,
   "id": "7a9abda5-631b-4afc-bb12-28c1de2b8f60",
   "metadata": {},
   "outputs": [],
   "source": [
    "def ensure_directory_exists(directory):\n",
    "    \"\"\"Ensure the directory exists. Create it if not.\"\"\"\n",
    "    if not os.path.exists(directory):\n",
    "        os.makedirs(directory)\n",
    "        print(f\"Directory '{directory}' created.\")\n",
    "        return False\n",
    "    else:\n",
    "        print(f\"Directory '{directory}' already exists.\")\n",
    "        return True"
   ]
  },
  {
   "cell_type": "code",
   "execution_count": 4,
   "id": "9387a75e-56d6-4a6f-bd49-c2f11e7a2317",
   "metadata": {},
   "outputs": [],
   "source": [
    "def download_file_if_not_exists(file_path, url):\n",
    "    \"\"\"Download a file if it does not exist.\"\"\"\n",
    "    if not os.path.exists(file_path):\n",
    "        response = requests.get(url, stream=True)\n",
    "        with open(file_path, 'wb') as file:\n",
    "            for chunk in response.iter_content(chunk_size=1024):\n",
    "                file.write(chunk)\n",
    "        print(f\"Downloaded '{file_path}'.\")\n",
    "    else:\n",
    "        print(f\"File '{file_path}' already exists.\")"
   ]
  },
  {
   "cell_type": "code",
   "execution_count": 5,
   "id": "a0164c2d-9c99-4ec6-b609-1e2f2177cbdb",
   "metadata": {},
   "outputs": [],
   "source": [
    "def unzip(zip_path, extract_to):\n",
    "    \"\"\"Unzip a file and delete the .zip file afterward.\"\"\"\n",
    "    if zipfile.is_zipfile(zip_path):\n",
    "        with zipfile.ZipFile(zip_path, 'r') as zip_ref:\n",
    "            zip_ref.extractall(extract_to)\n",
    "        print(f\"Extracted '{zip_path}' to '{extract_to}'.\")\n",
    "    else:\n",
    "        print(f\"'{zip_path}' is not a valid zip file.\")"
   ]
  },
  {
   "cell_type": "code",
   "execution_count": 6,
   "id": "c305419b-e899-4ae1-9bea-67d7be085b82",
   "metadata": {},
   "outputs": [
    {
     "name": "stdout",
     "output_type": "stream",
     "text": [
      "Directory 'datasets' already exists.\n",
      "Directory 'datasets\\votacao_candidato_munzona_2022' already exists.\n",
      "File 'datasets\\votacao_candidato_munzona_2022.zip' already exists.\n",
      "Extracted 'datasets\\votacao_candidato_munzona_2022.zip' to 'datasets\\votacao_candidato_munzona_2022'.\n"
     ]
    }
   ],
   "source": [
    "# Main execution\n",
    "directory = \"datasets\"\n",
    "zip_file_path = os.path.join(directory, \"votacao_candidato_munzona_2022.zip\")\n",
    "download_url = \"https://cdn.tse.jus.br/estatistica/sead/odsele/votacao_candidato_munzona/votacao_candidato_munzona_2022.zip\"  # Replace with the actual URL\n",
    "directory_out = zip_file_path.split(\".\")[0]\n",
    "\n",
    "# Ensure directory exists\n",
    "ensure_directory_exists(directory)\n",
    "ensure_directory_exists(directory_out)\n",
    "\n",
    "# Download the file if it doesn't exist\n",
    "download_file_if_not_exists(zip_file_path, download_url)\n",
    "\n",
    "# Unzip the file and delete the .zip\n",
    "unzip(zip_file_path, directory_out)"
   ]
  },
  {
   "cell_type": "markdown",
   "id": "604864c0-c236-408a-877a-fe7c17d9572b",
   "metadata": {},
   "source": [
    "# Carregando os dados"
   ]
  },
  {
   "cell_type": "code",
   "execution_count": 8,
   "id": "74789410",
   "metadata": {},
   "outputs": [],
   "source": [
    "import pandas as pd\n",
    "import numpy as np\n",
    "import matplotlib.pyplot as plt\n",
    "import seaborn as sns"
   ]
  },
  {
   "cell_type": "code",
   "execution_count": 9,
   "id": "2b070979",
   "metadata": {},
   "outputs": [],
   "source": [
    "with open(\"datasets/votacao_candidato_munzona_2022/votacao_candidato_munzona_2022_BA.csv\",\"r\") as file:\n",
    "    text = file.read()"
   ]
  },
  {
   "cell_type": "code",
   "execution_count": 10,
   "id": "2d724f4d",
   "metadata": {},
   "outputs": [],
   "source": [
    "data = []\n",
    "for line in text.split(\"\\n\"):\n",
    "    campos = line.split(\";\")\n",
    "    \n",
    "    if len(campos) == 50:\n",
    "        data.append(campos)\n",
    "        \n",
    "columns = data[0]\n",
    "columns = [i[1:-1] for i in columns]\n",
    "data = data[1:]\n",
    "data = pd.DataFrame(data,columns = columns)"
   ]
  },
  {
   "cell_type": "code",
   "execution_count": 11,
   "id": "41140491",
   "metadata": {},
   "outputs": [],
   "source": [
    "columns = data.columns \n",
    "for i in columns:\n",
    "    if len(data[i].unique()) == 1:\n",
    "        data.drop(i,axis=1,inplace=True)"
   ]
  },
  {
   "cell_type": "markdown",
   "id": "e947bca3",
   "metadata": {},
   "source": [
    "# Passar nulo para np.nan"
   ]
  },
  {
   "cell_type": "code",
   "execution_count": 13,
   "id": "58dd986d",
   "metadata": {},
   "outputs": [],
   "source": [
    "nulo = data['SG_FEDERACAO'].values[0]"
   ]
  },
  {
   "cell_type": "code",
   "execution_count": 14,
   "id": "9a26d068",
   "metadata": {},
   "outputs": [],
   "source": [
    "data.replace(nulo,value=pd.NA,inplace=True)"
   ]
  },
  {
   "cell_type": "code",
   "execution_count": 15,
   "id": "e1611384",
   "metadata": {},
   "outputs": [
    {
     "data": {
      "text/plain": [
       "NR_TURNO                     0.000000\n",
       "CD_ELEICAO                   0.000000\n",
       "DT_ELEICAO                   0.000000\n",
       "CD_MUNICIPIO                 0.000000\n",
       "NM_MUNICIPIO                 0.000000\n",
       "NR_ZONA                      0.000000\n",
       "CD_CARGO                     0.000000\n",
       "DS_CARGO                     0.000000\n",
       "SQ_CANDIDATO                 0.000000\n",
       "NR_CANDIDATO                 0.000000\n",
       "NM_CANDIDATO                 0.000000\n",
       "NM_URNA_CANDIDATO            0.000000\n",
       "NM_SOCIAL_CANDIDATO          0.997384\n",
       "CD_SITUACAO_CANDIDATURA      0.000000\n",
       "DS_SITUACAO_CANDIDATURA      0.000000\n",
       "CD_DETALHE_SITUACAO_CAND     0.000000\n",
       "DS_DETALHE_SITUACAO_CAND     0.000000\n",
       "TP_AGREMIACAO                0.000000\n",
       "NR_PARTIDO                   0.000000\n",
       "SG_PARTIDO                   0.000000\n",
       "NM_PARTIDO                   0.000000\n",
       "NR_FEDERACAO                 0.000000\n",
       "NM_FEDERACAO                 0.839765\n",
       "SG_FEDERACAO                 0.839765\n",
       "DS_COMPOSICAO_FEDERACAO      0.839765\n",
       "SQ_COLIGACAO                 0.000000\n",
       "NM_COLIGACAO                 0.000000\n",
       "DS_COMPOSICAO_COLIGACAO      0.000000\n",
       "QT_VOTOS_NOMINAIS            0.000000\n",
       "NM_TIPO_DESTINACAO_VOTOS     0.000000\n",
       "QT_VOTOS_NOMINAIS_VALIDOS    0.000000\n",
       "CD_SIT_TOT_TURNO             0.000000\n",
       "DS_SIT_TOT_TURNO             0.000000\n",
       "dtype: float64"
      ]
     },
     "execution_count": 15,
     "metadata": {},
     "output_type": "execute_result"
    }
   ],
   "source": [
    "data.isnull().mean(axis=0)"
   ]
  },
  {
   "cell_type": "markdown",
   "id": "13c227f5",
   "metadata": {},
   "source": [
    "# Tirar alguns redudantes"
   ]
  },
  {
   "cell_type": "code",
   "execution_count": 17,
   "id": "61a626ce",
   "metadata": {},
   "outputs": [
    {
     "name": "stdout",
     "output_type": "stream",
     "text": [
      "['1' '2']\n",
      "NR_TURNO\n",
      "\n",
      "['546' '547']\n",
      "CD_ELEICAO\n",
      "\n",
      "['\"02/10/2022\"' '\"30/10/2022\"']\n",
      "DT_ELEICAO\n",
      "\n",
      "['7' '3' '6' '5']\n",
      "CD_CARGO\n",
      "\n",
      "['\"Deputado Estadual\"' '\"Governador\"' '\"Deputado Federal\"' '\"Senador\"']\n",
      "DS_CARGO\n",
      "\n",
      "[<NA> '\"MARIA FERNANDA ABREU DOROTEIA\"' '\"MARCELO EVANGELISTA\"'\n",
      " '\"LEO KRET DO BRASIL\"' '\"CAMILA PARKER CONCEIÇÃO DE OLIVEIRA\"']\n",
      "NM_SOCIAL_CANDIDATO\n",
      "\n",
      "['12' '3']\n",
      "CD_SITUACAO_CANDIDATURA\n",
      "\n",
      "['\"APTO\"' '\"INAPTO\"']\n",
      "DS_SITUACAO_CANDIDATURA\n",
      "\n",
      "['2' '14']\n",
      "CD_DETALHE_SITUACAO_CAND\n",
      "\n",
      "['\"DEFERIDO\"' '\"INDEFERIDO\"']\n",
      "DS_DETALHE_SITUACAO_CAND\n",
      "\n",
      "['\"PARTIDO ISOLADO\"' '\"COLIGAÇÃO\"' '\"FEDERAÇÃO\"']\n",
      "TP_AGREMIACAO\n",
      "\n",
      "['-1' '3' '2' '1']\n",
      "NR_FEDERACAO\n",
      "\n",
      "[<NA> '\"Federação PSOL REDE\"'\n",
      " '\"Federação Brasil da Esperança - FE BRASIL\"'\n",
      " '\"Federação PSDB Cidadania\"']\n",
      "NM_FEDERACAO\n",
      "\n",
      "[<NA> '\"PSOL/REDE\"' '\"PT/PC do B/PV\"' '\"PSDB/CIDADANIA\"']\n",
      "SG_FEDERACAO\n",
      "\n",
      "[<NA> '\"PSOL / REDE\"' '\"PC do B / PT / PV\"' '\"CIDADANIA / PSDB\"']\n",
      "DS_COMPOSICAO_FEDERACAO\n",
      "\n",
      "['\"PARTIDO ISOLADO\"' '\"AGORA É A VEZ DO POVO\"' '\"FEDERAÇÃO\"'\n",
      " '\"JUNTOS VAMOS GOVERNAR\"' '\"BAHIA DE MÃOS DADAS COM O BRASIL \"'\n",
      " '\"BAHIA DE MÃOS DADAS COM O BRASIL\"' '\"PRA MUDAR A BAHIA\"'\n",
      " '\" PELA BAHIA,PELO BRASIL\"' '\"PELA BAHIA, PELO BRASIL\"']\n",
      "NM_COLIGACAO\n",
      "\n",
      "['\"Válido\"' '\"Anulado\"']\n",
      "NM_TIPO_DESTINACAO_VOTOS\n",
      "\n",
      "['3' '4' '5' '2' '1' '6']\n",
      "CD_SIT_TOT_TURNO\n",
      "\n",
      "['\"ELEITO POR MÉDIA\"' '\"NÃO ELEITO\"' '\"SUPLENTE\"' '\"ELEITO POR QP\"'\n",
      " '\"ELEITO\"' '\"2º TURNO\"']\n",
      "DS_SIT_TOT_TURNO\n",
      "\n"
     ]
    }
   ],
   "source": [
    "for i in data.columns:\n",
    "    if len(data[i].unique()) < 10:\n",
    "        print(data[i].unique())\n",
    "        print(i)\n",
    "        print()\n",
    "    "
   ]
  },
  {
   "cell_type": "code",
   "execution_count": 18,
   "id": "c7df4ae0",
   "metadata": {},
   "outputs": [],
   "source": [
    "redudante = ['CD_ELEICAO','DT_ELEICAO','NR_FEDERACAO','CD_CARGO']\n",
    "data.drop(redudante,axis=1,inplace=True)"
   ]
  },
  {
   "cell_type": "markdown",
   "id": "c690bd53",
   "metadata": {},
   "source": [
    "# Corrigir strings"
   ]
  },
  {
   "cell_type": "code",
   "execution_count": 20,
   "id": "93569683",
   "metadata": {},
   "outputs": [],
   "source": [
    "def remove_aspas(x):\n",
    "    if isinstance(x,str) == False:\n",
    "        return x\n",
    "    x = [i for i in x if i !=\"\\\"\"]\n",
    "    return ''.join(x)\n",
    "    \n",
    "for i in data.columns:\n",
    "    data[i] = data[i].apply(remove_aspas)"
   ]
  },
  {
   "cell_type": "markdown",
   "id": "ddd9edaf",
   "metadata": {},
   "source": [
    "# Tipos"
   ]
  },
  {
   "cell_type": "code",
   "execution_count": 22,
   "id": "83cadf3a",
   "metadata": {},
   "outputs": [],
   "source": [
    "for i in data.columns:\n",
    "    try:\n",
    "        data[i] = data[i].astype(int)\n",
    "    except:\n",
    "        pass"
   ]
  },
  {
   "cell_type": "markdown",
   "id": "167b5eb4",
   "metadata": {},
   "source": [
    "# Alinhar municipios"
   ]
  },
  {
   "cell_type": "code",
   "execution_count": 24,
   "id": "cbd62b05",
   "metadata": {},
   "outputs": [],
   "source": [
    "import geopandas"
   ]
  },
  {
   "cell_type": "code",
   "execution_count": 25,
   "id": "d4367d55",
   "metadata": {},
   "outputs": [
    {
     "data": {
      "text/html": [
       "<div>\n",
       "<style scoped>\n",
       "    .dataframe tbody tr th:only-of-type {\n",
       "        vertical-align: middle;\n",
       "    }\n",
       "\n",
       "    .dataframe tbody tr th {\n",
       "        vertical-align: top;\n",
       "    }\n",
       "\n",
       "    .dataframe thead th {\n",
       "        text-align: right;\n",
       "    }\n",
       "</style>\n",
       "<table border=\"1\" class=\"dataframe\">\n",
       "  <thead>\n",
       "    <tr style=\"text-align: right;\">\n",
       "      <th></th>\n",
       "      <th>CD_MUN</th>\n",
       "      <th>NM_MUN</th>\n",
       "      <th>SIGLA_UF</th>\n",
       "      <th>AREA_KM2</th>\n",
       "      <th>geometry</th>\n",
       "    </tr>\n",
       "  </thead>\n",
       "  <tbody>\n",
       "    <tr>\n",
       "      <th>0</th>\n",
       "      <td>2900108</td>\n",
       "      <td>Abaíra</td>\n",
       "      <td>BA</td>\n",
       "      <td>538.677</td>\n",
       "      <td>POLYGON ((-41.74667 -13.32509, -41.74679 -13.3...</td>\n",
       "    </tr>\n",
       "    <tr>\n",
       "      <th>1</th>\n",
       "      <td>2900207</td>\n",
       "      <td>Abaré</td>\n",
       "      <td>BA</td>\n",
       "      <td>1604.923</td>\n",
       "      <td>POLYGON ((-39.23481 -8.70419, -39.23427 -8.705...</td>\n",
       "    </tr>\n",
       "    <tr>\n",
       "      <th>2</th>\n",
       "      <td>2900306</td>\n",
       "      <td>Acajutiba</td>\n",
       "      <td>BA</td>\n",
       "      <td>181.475</td>\n",
       "      <td>POLYGON ((-38.02809 -11.75007, -38.02811 -11.7...</td>\n",
       "    </tr>\n",
       "    <tr>\n",
       "      <th>3</th>\n",
       "      <td>2900355</td>\n",
       "      <td>Adustina</td>\n",
       "      <td>BA</td>\n",
       "      <td>629.099</td>\n",
       "      <td>POLYGON ((-37.97867 -10.652, -37.97874 -10.652...</td>\n",
       "    </tr>\n",
       "    <tr>\n",
       "      <th>4</th>\n",
       "      <td>2900405</td>\n",
       "      <td>Água Fria</td>\n",
       "      <td>BA</td>\n",
       "      <td>742.775</td>\n",
       "      <td>POLYGON ((-38.60169 -11.92432, -38.59707 -11.9...</td>\n",
       "    </tr>\n",
       "    <tr>\n",
       "      <th>...</th>\n",
       "      <td>...</td>\n",
       "      <td>...</td>\n",
       "      <td>...</td>\n",
       "      <td>...</td>\n",
       "      <td>...</td>\n",
       "    </tr>\n",
       "    <tr>\n",
       "      <th>412</th>\n",
       "      <td>2933307</td>\n",
       "      <td>Vitória da Conquista</td>\n",
       "      <td>BA</td>\n",
       "      <td>3254.186</td>\n",
       "      <td>POLYGON ((-40.71779 -14.88926, -40.71774 -14.8...</td>\n",
       "    </tr>\n",
       "    <tr>\n",
       "      <th>413</th>\n",
       "      <td>2933406</td>\n",
       "      <td>Wagner</td>\n",
       "      <td>BA</td>\n",
       "      <td>522.370</td>\n",
       "      <td>POLYGON ((-41.06276 -12.28494, -41.07128 -12.2...</td>\n",
       "    </tr>\n",
       "    <tr>\n",
       "      <th>414</th>\n",
       "      <td>2933455</td>\n",
       "      <td>Wanderley</td>\n",
       "      <td>BA</td>\n",
       "      <td>2920.579</td>\n",
       "      <td>POLYGON ((-43.82392 -12.12517, -43.82324 -12.1...</td>\n",
       "    </tr>\n",
       "    <tr>\n",
       "      <th>415</th>\n",
       "      <td>2933505</td>\n",
       "      <td>Wenceslau Guimarães</td>\n",
       "      <td>BA</td>\n",
       "      <td>655.057</td>\n",
       "      <td>POLYGON ((-39.49336 -13.60308, -39.49335 -13.6...</td>\n",
       "    </tr>\n",
       "    <tr>\n",
       "      <th>416</th>\n",
       "      <td>2933604</td>\n",
       "      <td>Xique-Xique</td>\n",
       "      <td>BA</td>\n",
       "      <td>5079.662</td>\n",
       "      <td>POLYGON ((-42.52305 -10.90382, -42.52306 -10.9...</td>\n",
       "    </tr>\n",
       "  </tbody>\n",
       "</table>\n",
       "<p>417 rows × 5 columns</p>\n",
       "</div>"
      ],
      "text/plain": [
       "      CD_MUN                NM_MUN SIGLA_UF  AREA_KM2  \\\n",
       "0    2900108                Abaíra       BA   538.677   \n",
       "1    2900207                 Abaré       BA  1604.923   \n",
       "2    2900306             Acajutiba       BA   181.475   \n",
       "3    2900355              Adustina       BA   629.099   \n",
       "4    2900405             Água Fria       BA   742.775   \n",
       "..       ...                   ...      ...       ...   \n",
       "412  2933307  Vitória da Conquista       BA  3254.186   \n",
       "413  2933406                Wagner       BA   522.370   \n",
       "414  2933455             Wanderley       BA  2920.579   \n",
       "415  2933505   Wenceslau Guimarães       BA   655.057   \n",
       "416  2933604           Xique-Xique       BA  5079.662   \n",
       "\n",
       "                                              geometry  \n",
       "0    POLYGON ((-41.74667 -13.32509, -41.74679 -13.3...  \n",
       "1    POLYGON ((-39.23481 -8.70419, -39.23427 -8.705...  \n",
       "2    POLYGON ((-38.02809 -11.75007, -38.02811 -11.7...  \n",
       "3    POLYGON ((-37.97867 -10.652, -37.97874 -10.652...  \n",
       "4    POLYGON ((-38.60169 -11.92432, -38.59707 -11.9...  \n",
       "..                                                 ...  \n",
       "412  POLYGON ((-40.71779 -14.88926, -40.71774 -14.8...  \n",
       "413  POLYGON ((-41.06276 -12.28494, -41.07128 -12.2...  \n",
       "414  POLYGON ((-43.82392 -12.12517, -43.82324 -12.1...  \n",
       "415  POLYGON ((-39.49336 -13.60308, -39.49335 -13.6...  \n",
       "416  POLYGON ((-42.52305 -10.90382, -42.52306 -10.9...  \n",
       "\n",
       "[417 rows x 5 columns]"
      ]
     },
     "execution_count": 25,
     "metadata": {},
     "output_type": "execute_result"
    }
   ],
   "source": [
    "mun = geopandas.read_file('datasets/BA_Municipios_2022/BA_Municipios_2022.dbf')\n",
    "mun_names = mun['NM_MUN'].apply(lambda x: x.upper()).values\n",
    "mun"
   ]
  },
  {
   "cell_type": "code",
   "execution_count": 26,
   "id": "215a74d7",
   "metadata": {},
   "outputs": [
    {
     "name": "stdout",
     "output_type": "stream",
     "text": [
      "SANTO ESTEVÃO\n",
      "DIAS D ÁVILA\n",
      "CAMACÃ\n",
      "CAEM\n"
     ]
    }
   ],
   "source": [
    "for i in data['NM_MUNICIPIO'].unique():\n",
    "    if i not in mun_names:\n",
    "        print(i)"
   ]
  },
  {
   "cell_type": "code",
   "execution_count": 27,
   "id": "541310aa",
   "metadata": {},
   "outputs": [
    {
     "data": {
      "text/plain": [
       "417"
      ]
     },
     "execution_count": 27,
     "metadata": {},
     "output_type": "execute_result"
    }
   ],
   "source": [
    "len(data['NM_MUNICIPIO'].unique())"
   ]
  },
  {
   "cell_type": "code",
   "execution_count": 28,
   "id": "534112c6",
   "metadata": {},
   "outputs": [],
   "source": [
    "data.replace('CAMACÃ', 'CAMACAN',inplace=True)\n",
    "data.replace('SANTO ESTEVÃO', 'SANTO ESTÊVÃO',inplace=True)\n",
    "data.replace('CAEM', 'CAÉM',inplace=True)\n",
    "data.replace('DIAS D ÁVILA', 'DIAS D\\'ÁVILA',inplace=True)"
   ]
  },
  {
   "cell_type": "code",
   "execution_count": 29,
   "id": "bcb7c5e1-9a53-4507-9e3d-02c9d6303dc0",
   "metadata": {},
   "outputs": [],
   "source": [
    "mun_dict = {nm_mun.upper():cd_mun for cd_mun,nm_mun in mun[['CD_MUN','NM_MUN']].values }"
   ]
  },
  {
   "cell_type": "code",
   "execution_count": 30,
   "id": "4c3ed27a-59d5-4606-bad4-ba7d5c124731",
   "metadata": {},
   "outputs": [],
   "source": [
    "data['CD_MUN'] = data['NM_MUNICIPIO'].apply(lambda x: mun_dict[x])\n",
    "data['NM_MUN'] = data['NM_MUNICIPIO']"
   ]
  },
  {
   "cell_type": "code",
   "execution_count": 31,
   "id": "71cf3456-e3e0-462e-89ff-15b307cee922",
   "metadata": {},
   "outputs": [
    {
     "data": {
      "text/plain": [
       "Index(['NR_TURNO', 'CD_MUNICIPIO', 'NM_MUNICIPIO', 'NR_ZONA', 'DS_CARGO',\n",
       "       'SQ_CANDIDATO', 'NR_CANDIDATO', 'NM_CANDIDATO', 'NM_URNA_CANDIDATO',\n",
       "       'NM_SOCIAL_CANDIDATO', 'CD_SITUACAO_CANDIDATURA',\n",
       "       'DS_SITUACAO_CANDIDATURA', 'CD_DETALHE_SITUACAO_CAND',\n",
       "       'DS_DETALHE_SITUACAO_CAND', 'TP_AGREMIACAO', 'NR_PARTIDO', 'SG_PARTIDO',\n",
       "       'NM_PARTIDO', 'NM_FEDERACAO', 'SG_FEDERACAO', 'DS_COMPOSICAO_FEDERACAO',\n",
       "       'SQ_COLIGACAO', 'NM_COLIGACAO', 'DS_COMPOSICAO_COLIGACAO',\n",
       "       'QT_VOTOS_NOMINAIS', 'NM_TIPO_DESTINACAO_VOTOS',\n",
       "       'QT_VOTOS_NOMINAIS_VALIDOS', 'CD_SIT_TOT_TURNO', 'DS_SIT_TOT_TURNO',\n",
       "       'CD_MUN', 'NM_MUN'],\n",
       "      dtype='object')"
      ]
     },
     "execution_count": 31,
     "metadata": {},
     "output_type": "execute_result"
    }
   ],
   "source": [
    "data.columns"
   ]
  },
  {
   "cell_type": "code",
   "execution_count": 32,
   "id": "fcab1ee2-efbb-4300-a71c-5b6f1a08020a",
   "metadata": {},
   "outputs": [],
   "source": [
    "data.drop(['CD_MUNICIPIO','NM_MUNICIPIO'],axis=1,inplace=True)"
   ]
  },
  {
   "cell_type": "markdown",
   "id": "28005120",
   "metadata": {},
   "source": [
    "# SQL"
   ]
  },
  {
   "cell_type": "code",
   "execution_count": 34,
   "id": "4ded625c",
   "metadata": {},
   "outputs": [],
   "source": [
    "import sqlite3"
   ]
  },
  {
   "cell_type": "code",
   "execution_count": 35,
   "id": "17fcfb9f",
   "metadata": {},
   "outputs": [],
   "source": [
    "db_path = 'sql/eleicao.db' \n",
    "connection = sqlite3.connect(db_path)"
   ]
  },
  {
   "cell_type": "markdown",
   "id": "b2a6506b-2b9c-430c-b682-b17a80e4277b",
   "metadata": {},
   "source": [
    "# votos_candidato"
   ]
  },
  {
   "cell_type": "code",
   "execution_count": 37,
   "id": "c7aadbea-2eb2-4cd0-bd5c-73eb3becaf41",
   "metadata": {},
   "outputs": [
    {
     "data": {
      "text/plain": [
       "Index(['NR_TURNO', 'NR_ZONA', 'DS_CARGO', 'SQ_CANDIDATO', 'NR_CANDIDATO',\n",
       "       'NM_CANDIDATO', 'NM_URNA_CANDIDATO', 'NM_SOCIAL_CANDIDATO',\n",
       "       'CD_SITUACAO_CANDIDATURA', 'DS_SITUACAO_CANDIDATURA',\n",
       "       'CD_DETALHE_SITUACAO_CAND', 'DS_DETALHE_SITUACAO_CAND', 'TP_AGREMIACAO',\n",
       "       'NR_PARTIDO', 'SG_PARTIDO', 'NM_PARTIDO', 'NM_FEDERACAO',\n",
       "       'SG_FEDERACAO', 'DS_COMPOSICAO_FEDERACAO', 'SQ_COLIGACAO',\n",
       "       'NM_COLIGACAO', 'DS_COMPOSICAO_COLIGACAO', 'QT_VOTOS_NOMINAIS',\n",
       "       'NM_TIPO_DESTINACAO_VOTOS', 'QT_VOTOS_NOMINAIS_VALIDOS',\n",
       "       'CD_SIT_TOT_TURNO', 'DS_SIT_TOT_TURNO', 'CD_MUN', 'NM_MUN'],\n",
       "      dtype='object')"
      ]
     },
     "execution_count": 37,
     "metadata": {},
     "output_type": "execute_result"
    }
   ],
   "source": [
    "data.columns"
   ]
  },
  {
   "cell_type": "code",
   "execution_count": 38,
   "id": "f99ea0b7-183c-4275-8ddb-ddcb659e036c",
   "metadata": {},
   "outputs": [],
   "source": [
    "votos_candidato = data[['NR_TURNO','NR_ZONA','DS_CARGO','NR_CANDIDATO','NM_CANDIDATO','NM_URNA_CANDIDATO',\n",
    "      'NM_SOCIAL_CANDIDATO','CD_SITUACAO_CANDIDATURA','DS_SITUACAO_CANDIDATURA','NR_PARTIDO','SG_FEDERACAO','SQ_COLIGACAO','QT_VOTOS_NOMINAIS',\n",
    "     'NM_TIPO_DESTINACAO_VOTOS','QT_VOTOS_NOMINAIS_VALIDOS','CD_SIT_TOT_TURNO','DS_SIT_TOT_TURNO','CD_MUN']]"
   ]
  },
  {
   "cell_type": "code",
   "execution_count": 39,
   "id": "6c2e01db-d386-43f4-a02b-9fade90d909a",
   "metadata": {},
   "outputs": [
    {
     "data": {
      "text/plain": [
       "688050"
      ]
     },
     "execution_count": 39,
     "metadata": {},
     "output_type": "execute_result"
    }
   ],
   "source": [
    "# Converter o DataFrame em uma tabela SQL\n",
    "table_name = 'votos_candidato'\n",
    "votos_candidato.to_sql(table_name, connection, if_exists='replace', index=False)"
   ]
  },
  {
   "cell_type": "code",
   "execution_count": 40,
   "id": "499c4166-e6a5-4a9e-b9f0-6fd35e1dc43f",
   "metadata": {},
   "outputs": [],
   "source": [
    "# Fechar a conexão\n",
    "connection.close()"
   ]
  }
 ],
 "metadata": {
  "kernelspec": {
   "display_name": "Python 3 (ipykernel)",
   "language": "python",
   "name": "python3"
  },
  "language_info": {
   "codemirror_mode": {
    "name": "ipython",
    "version": 3
   },
   "file_extension": ".py",
   "mimetype": "text/x-python",
   "name": "python",
   "nbconvert_exporter": "python",
   "pygments_lexer": "ipython3",
   "version": "3.12.0"
  }
 },
 "nbformat": 4,
 "nbformat_minor": 5
}
